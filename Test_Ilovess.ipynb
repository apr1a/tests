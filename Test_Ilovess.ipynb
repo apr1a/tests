{
 "cells": [
  {
   "cell_type": "code",
   "execution_count": 56,
   "id": "24873e13",
   "metadata": {},
   "outputs": [],
   "source": [
    "import pandas as pd"
   ]
  },
  {
   "cell_type": "markdown",
   "id": "f185e3fb",
   "metadata": {},
   "source": [
    "## Создаём наглядную таблицу\n",
    " \n",
    " - school_type - тип школы\n",
    " - tariff - стоимость услуги\n",
    " - groups - количество групп на данный момент\n",
    " - people_for_group - количество людей в группе (берём за основу максимальное)\n",
    " - revenue_now - выручка сейчас\n",
    " - percent - 20% от настоящей выручки\n",
    " - future_revenue - желаемая выручка (+20%)"
   ]
  },
  {
   "cell_type": "code",
   "execution_count": 21,
   "id": "19a8084a",
   "metadata": {},
   "outputs": [
    {
     "data": {
      "text/html": [
       "<div>\n",
       "<style scoped>\n",
       "    .dataframe tbody tr th:only-of-type {\n",
       "        vertical-align: middle;\n",
       "    }\n",
       "\n",
       "    .dataframe tbody tr th {\n",
       "        vertical-align: top;\n",
       "    }\n",
       "\n",
       "    .dataframe thead th {\n",
       "        text-align: right;\n",
       "    }\n",
       "</style>\n",
       "<table border=\"1\" class=\"dataframe\">\n",
       "  <thead>\n",
       "    <tr style=\"text-align: right;\">\n",
       "      <th></th>\n",
       "      <th>school_type</th>\n",
       "      <th>tariff</th>\n",
       "      <th>groups</th>\n",
       "      <th>people_for_group</th>\n",
       "      <th>revenue_now</th>\n",
       "      <th>percent</th>\n",
       "      <th>future_revenue</th>\n",
       "    </tr>\n",
       "  </thead>\n",
       "  <tbody>\n",
       "    <tr>\n",
       "      <th>0</th>\n",
       "      <td>школа бега</td>\n",
       "      <td>10800</td>\n",
       "      <td>10</td>\n",
       "      <td>20</td>\n",
       "      <td>2160000</td>\n",
       "      <td>432000.0</td>\n",
       "      <td>2592000.0</td>\n",
       "    </tr>\n",
       "    <tr>\n",
       "      <th>1</th>\n",
       "      <td>runpass</td>\n",
       "      <td>9100</td>\n",
       "      <td>20</td>\n",
       "      <td>20</td>\n",
       "      <td>3640000</td>\n",
       "      <td>728000.0</td>\n",
       "      <td>4368000.0</td>\n",
       "    </tr>\n",
       "  </tbody>\n",
       "</table>\n",
       "</div>"
      ],
      "text/plain": [
       "  school_type  tariff  groups  people_for_group  revenue_now   percent  \\\n",
       "0  школа бега   10800      10                20      2160000  432000.0   \n",
       "1     runpass    9100      20                20      3640000  728000.0   \n",
       "\n",
       "   future_revenue  \n",
       "0       2592000.0  \n",
       "1       4368000.0  "
      ]
     },
     "execution_count": 21,
     "metadata": {},
     "output_type": "execute_result"
    }
   ],
   "source": [
    "data = pd.DataFrame({'school_type': ['школа бега', 'runpass'], 'tariff': [10800, 9100], 'groups': [10, 20], 'people_for_group': [20, 20]})\n",
    "data['revenue_now'] = data['groups']*data['people_for_group']*data['tariff']\n",
    "data['percent'] = data['revenue_now']*0.2\n",
    "data['future_revenue'] = data['revenue_now']+ data['percent']\n",
    "data"
   ]
  },
  {
   "cell_type": "code",
   "execution_count": 40,
   "id": "eb6cdc63",
   "metadata": {},
   "outputs": [
    {
     "name": "stdout",
     "output_type": "stream",
     "text": [
      "Желаемый прирост прибыли: 1160000.0\n"
     ]
    }
   ],
   "source": [
    "print('Желаемый прирост прибыли:', data['percent'].sum())"
   ]
  },
  {
   "cell_type": "markdown",
   "id": "f61ec70d",
   "metadata": {},
   "source": [
    "По опросу пользователей при выборе школы они ориентируются на следующие факторы: \n",
    "- Расположение локации тренировки\n",
    "- Тренер\n",
    "- Расписание\n",
    "- Отзывы"
   ]
  },
  {
   "cell_type": "markdown",
   "id": "762eb9ea",
   "metadata": {},
   "source": [
    "## Способы увеличения выручки"
   ]
  },
  {
   "cell_type": "markdown",
   "id": "1f984f58",
   "metadata": {},
   "source": [
    "Одними из самых эффективных способов являются\n",
    "- cross-sell - методика перекрёстных продаж\n",
    "- up-sell - методика, направленная на поднятие суммы\n",
    "\n",
    "Рассмотрим каждый из них на нашем примере\n"
   ]
  },
  {
   "cell_type": "markdown",
   "id": "e56e99d7",
   "metadata": {},
   "source": [
    "##  Up-sell"
   ]
  },
  {
   "cell_type": "markdown",
   "id": "ad6d72bf",
   "metadata": {},
   "source": [
    "1. Расположение локации\n",
    "\n",
    "   Всего имеется 7 варинатов локаций:\n",
    "- «Олимпийский центр братьев Знаменских», м. Сокольники\n",
    "- Парк «Красная Пресня», м. Выставочная, м. Улица 1905 года\n",
    "- Парк «Таганский», м. Марксистская, м. Крестьянская застава\n",
    "- Парк Ходынское поле, м. ЦСКА\n",
    "- Северный спортивный центр «Лужники», м. Спортивная\n",
    "- Южный спортивный центр «Лужники», м. Воробьёвы горы\n",
    "- Парк Дружбы, м. Речной вокзал\n",
    "\n",
    "Среди них стоит выделить две локации в Лужниках, парк \"Таганский\" и парк \"Красная Пресня\".\n",
    "Лужники являются центром притяжения внушительного количества людей, которые неравнодушны к спорту: в этой локации вся инфраструктура направлена на комфорт людей, занимающихся тем или иным видом активности. \n",
    "Две последние упомянутые локации удобно расположены (кольцо/одна станция от кольца), что делает их максимально доступными для большинства клиентов. \n",
    "\n",
    "Из вышесказанного можно сделать вывод, что небольшое поднятие цен в локациях, представляющих бОльший комфорт для людей, не скажется на уменьшении спроса и даст прирост в выручке. \n",
    "Стоит отметить, что данное изменение имеет смысл внести для новопришедших, а на уже постоянных клиентах лучше использовать методику cross-sell"
   ]
  },
  {
   "cell_type": "markdown",
   "id": "769c2cab",
   "metadata": {},
   "source": [
    "Предположим, что в Лужниках и парках мы поднимаем цену:\n",
    "\n",
    "Лужники -  11300 и 9600\n",
    "Парки - 11000 и 9300\n",
    "\n",
    "В ближайшее время мы набираем 2 группы (на разные тарифы) по 10 человек в Лужниках, и по 2 группы (10 человек) в каждом парке (runpass).\n"
   ]
  },
  {
   "cell_type": "code",
   "execution_count": 36,
   "id": "442badc7",
   "metadata": {},
   "outputs": [
    {
     "data": {
      "text/html": [
       "<div>\n",
       "<style scoped>\n",
       "    .dataframe tbody tr th:only-of-type {\n",
       "        vertical-align: middle;\n",
       "    }\n",
       "\n",
       "    .dataframe tbody tr th {\n",
       "        vertical-align: top;\n",
       "    }\n",
       "\n",
       "    .dataframe thead th {\n",
       "        text-align: right;\n",
       "    }\n",
       "</style>\n",
       "<table border=\"1\" class=\"dataframe\">\n",
       "  <thead>\n",
       "    <tr style=\"text-align: right;\">\n",
       "      <th></th>\n",
       "      <th>school_type</th>\n",
       "      <th>tariff</th>\n",
       "      <th>groups</th>\n",
       "      <th>people_for_group</th>\n",
       "      <th>revenue</th>\n",
       "    </tr>\n",
       "  </thead>\n",
       "  <tbody>\n",
       "    <tr>\n",
       "      <th>0</th>\n",
       "      <td>школа бега</td>\n",
       "      <td>11300</td>\n",
       "      <td>2</td>\n",
       "      <td>10</td>\n",
       "      <td>113000</td>\n",
       "    </tr>\n",
       "    <tr>\n",
       "      <th>1</th>\n",
       "      <td>runpass</td>\n",
       "      <td>9600</td>\n",
       "      <td>2</td>\n",
       "      <td>10</td>\n",
       "      <td>96000</td>\n",
       "    </tr>\n",
       "  </tbody>\n",
       "</table>\n",
       "</div>"
      ],
      "text/plain": [
       "  school_type  tariff  groups  people_for_group  revenue\n",
       "0  школа бега   11300       2                10   113000\n",
       "1     runpass    9600       2                10    96000"
      ]
     },
     "execution_count": 36,
     "metadata": {},
     "output_type": "execute_result"
    }
   ],
   "source": [
    "data_luz = pd.DataFrame({'school_type': ['школа бега', 'runpass'], 'tariff': [11300, 9600], 'groups': [2, 2], 'people_for_group': [10, 10]})\n",
    "data_luz['revenue'] = data_luz['tariff']*data_luz['people_for_group']\n",
    "data_luz"
   ]
  },
  {
   "cell_type": "code",
   "execution_count": 38,
   "id": "68709c84",
   "metadata": {},
   "outputs": [
    {
     "data": {
      "text/html": [
       "<div>\n",
       "<style scoped>\n",
       "    .dataframe tbody tr th:only-of-type {\n",
       "        vertical-align: middle;\n",
       "    }\n",
       "\n",
       "    .dataframe tbody tr th {\n",
       "        vertical-align: top;\n",
       "    }\n",
       "\n",
       "    .dataframe thead th {\n",
       "        text-align: right;\n",
       "    }\n",
       "</style>\n",
       "<table border=\"1\" class=\"dataframe\">\n",
       "  <thead>\n",
       "    <tr style=\"text-align: right;\">\n",
       "      <th></th>\n",
       "      <th>school_type</th>\n",
       "      <th>tariff</th>\n",
       "      <th>groups</th>\n",
       "      <th>people_for_group</th>\n",
       "      <th>revenue</th>\n",
       "    </tr>\n",
       "  </thead>\n",
       "  <tbody>\n",
       "    <tr>\n",
       "      <th>0</th>\n",
       "      <td>runpass</td>\n",
       "      <td>9300</td>\n",
       "      <td>4</td>\n",
       "      <td>10</td>\n",
       "      <td>372000</td>\n",
       "    </tr>\n",
       "  </tbody>\n",
       "</table>\n",
       "</div>"
      ],
      "text/plain": [
       "  school_type  tariff  groups  people_for_group  revenue\n",
       "0     runpass    9300       4                10   372000"
      ]
     },
     "execution_count": 38,
     "metadata": {},
     "output_type": "execute_result"
    }
   ],
   "source": [
    "data_park = pd.DataFrame({'school_type': [ 'runpass'], 'tariff': [9300], 'groups': [4], 'people_for_group': [10]})\n",
    "data_park['revenue'] = data_park['tariff']*data_park['people_for_group']*4\n",
    "data_park"
   ]
  },
  {
   "cell_type": "code",
   "execution_count": 41,
   "id": "2a162eb9",
   "metadata": {},
   "outputs": [
    {
     "name": "stdout",
     "output_type": "stream",
     "text": [
      "Дополнительный прирост: 0    581000\n",
      "Name: revenue, dtype: int64\n"
     ]
    }
   ],
   "source": [
    "print('Дополнительный прирост:', data_luz['revenue'].sum()+data_park['revenue'])"
   ]
  },
  {
   "cell_type": "markdown",
   "id": "2f442037",
   "metadata": {},
   "source": [
    "Также было бы возможно на небольшой процент поднять цену услуг у более сертифицированных тренеров  и у тренеров с более хорошими отзывами, но на мой взгляд, более экологичным и клиентоориентированным способом было бы сделать тренировки у данных профессионалов преимущественно в тех локациях, в которых изначально мы подняли цены, чтобы мотивация у клиента прийти именно в это место была выше. По сайту я заметила, что по большей части распределение тренеров по ллокациям уже придерживается именно такого принципа.\n"
   ]
  },
  {
   "cell_type": "markdown",
   "id": "985ae4e9",
   "metadata": {},
   "source": [
    "## Cross-sell"
   ]
  },
  {
   "cell_type": "markdown",
   "id": "4113f85b",
   "metadata": {},
   "source": [
    "Данную методику возможно применить как на новых пользователях, так и на уже активных"
   ]
  },
  {
   "cell_type": "markdown",
   "id": "a2b8dcd8",
   "metadata": {},
   "source": [
    "1. Активные пользователи:\n",
    "\n",
    "    В разгар сезона можно напомнить клиентам на очных тренировках/в режиме рассылок/ push-уведомлениями о наличии возможности прийти на индивидуальное занятие, которое сможет более детально определить цель и сориентировать в подготовке, подходящей конкретному человеку. \n",
    "    Это может касаться также не только бега, но и плавания. Можно напомнить, что плавание - тоже кардио, но без ударной нагрузки, что даст возможность сердцу поработать, а ногам восстановиться. А грамотный подход и правильная техника плавания улучшат результат, в чём может помочь индивидуальная тренировка. \n",
    "    Стоимость занятия - 3000 рублей. На данный момент мы имеем 600 пользователей. Если хотя бы 20% заинтересуются таким предложением и посетят 1 индивидуальную тренировку, то мы получим +360000 (120 пользователей*3000)\n",
    "    \n",
    "    \n",
    "2. Новые пользователи:\n",
    "\n",
    "   При регистрации и оформлении можно напомнить клинетам о возможности пройти индивидуальный онлайн-скрининг для бегунов. Если 50 человек воспользуются этой опцией, то мы получим +49500 (50*990) \n",
    "   \n",
    "   \n",
    "   \n",
    "И активным, и новым пользователям можно напомнить о возможности поехать на беговой кэмп в Кисловодск или Приэльбрусье, что станет отличной возможностью выйти на новый уровень, найти близких по духу людей и тренироваться под руководством высококлассных тренеров. Отталкиваемся от 600 настоящих пользователей (и +100 новых). Если 20 человек зарегистрируются на кэмп, то мы получим +518000 (20*25900)"
   ]
  },
  {
   "cell_type": "markdown",
   "id": "4ab35907",
   "metadata": {},
   "source": [
    "## Суммирование и подведение итогов"
   ]
  },
  {
   "cell_type": "markdown",
   "id": "bb4b1905",
   "metadata": {},
   "source": [
    "Объединяем результаты"
   ]
  },
  {
   "cell_type": "code",
   "execution_count": 45,
   "id": "ef7ae394",
   "metadata": {},
   "outputs": [
    {
     "data": {
      "text/html": [
       "<div>\n",
       "<style scoped>\n",
       "    .dataframe tbody tr th:only-of-type {\n",
       "        vertical-align: middle;\n",
       "    }\n",
       "\n",
       "    .dataframe tbody tr th {\n",
       "        vertical-align: top;\n",
       "    }\n",
       "\n",
       "    .dataframe thead th {\n",
       "        text-align: right;\n",
       "    }\n",
       "</style>\n",
       "<table border=\"1\" class=\"dataframe\">\n",
       "  <thead>\n",
       "    <tr style=\"text-align: right;\">\n",
       "      <th></th>\n",
       "      <th>location</th>\n",
       "      <th>training</th>\n",
       "      <th>screening</th>\n",
       "      <th>camp</th>\n",
       "    </tr>\n",
       "  </thead>\n",
       "  <tbody>\n",
       "    <tr>\n",
       "      <th>0</th>\n",
       "      <td>581000</td>\n",
       "      <td>360000</td>\n",
       "      <td>49500</td>\n",
       "      <td>518000</td>\n",
       "    </tr>\n",
       "  </tbody>\n",
       "</table>\n",
       "</div>"
      ],
      "text/plain": [
       "   location  training  screening    camp\n",
       "0    581000    360000      49500  518000"
      ]
     },
     "execution_count": 45,
     "metadata": {},
     "output_type": "execute_result"
    }
   ],
   "source": [
    "data_sum = pd.DataFrame({'location': [581000], 'training': [360000], 'screening': [49500], 'camp': [518000]})\n",
    "data_sum"
   ]
  },
  {
   "cell_type": "code",
   "execution_count": 47,
   "id": "a89960dc",
   "metadata": {},
   "outputs": [
    {
     "name": "stdout",
     "output_type": "stream",
     "text": [
      "Общий прирост предполагаемой выручки: 1508500\n"
     ]
    }
   ],
   "source": [
    "print('Общий прирост предполагаемой выручки:', 1508500)"
   ]
  },
  {
   "cell_type": "markdown",
   "id": "f1c42e9f",
   "metadata": {},
   "source": [
    "Вышеперечисленными способами возможно увеличить выручку на 21,6%"
   ]
  },
  {
   "cell_type": "markdown",
   "id": "26fcfda6",
   "metadata": {},
   "source": [
    "## Общий вывод\n",
    "\n",
    "Отталикаваясь от предоставленных данных, мы попробовали рассчитать возможные варианты увеличения выручки, среди которых:\n",
    "\n",
    "1. Увеличение цен в локациях, пользующихся наибольшим спросом\n",
    "2. Преложение индивидуальных тренировок по бегу/плаванию\n",
    "3. Предложение онлайн-скрининга\n",
    "4. Предложение бегового кэмпа\n",
    "\n",
    "В результате рассчётов мы получили предполагаемый прирост выручки на 21,6%"
   ]
  },
  {
   "cell_type": "code",
   "execution_count": null,
   "id": "7f1af375",
   "metadata": {},
   "outputs": [],
   "source": []
  }
 ],
 "metadata": {
  "kernelspec": {
   "display_name": "Python 3",
   "language": "python",
   "name": "python3"
  },
  "language_info": {
   "codemirror_mode": {
    "name": "ipython",
    "version": 3
   },
   "file_extension": ".py",
   "mimetype": "text/x-python",
   "name": "python",
   "nbconvert_exporter": "python",
   "pygments_lexer": "ipython3",
   "version": "3.8.8"
  }
 },
 "nbformat": 4,
 "nbformat_minor": 5
}
