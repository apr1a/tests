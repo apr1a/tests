{
 "cells": [
  {
   "cell_type": "markdown",
   "id": "6593b005",
   "metadata": {},
   "source": [
    "# 1. Темп (https://temptraining.ru) "
   ]
  },
  {
   "cell_type": "markdown",
   "id": "19d6c2fc",
   "metadata": {},
   "source": [
    "В максимальном пакете услуг предусмотрено **2 очные тренировки в месяц**. Остальное - дастанционное ведение.\n",
    "\n",
    "Тренер помогает в составлении календаря стартов и подготовке к ним. \n",
    "Гарантированное место на сборах и сопровождение на соревнованиях 1 раз в год.\n",
    "\n",
    "Неограниченная связь с тренером, коррекция посадки на велосипеде, консультации по питанию, стартовый пакет. \n",
    "План пишется на месяц вперёд.\n",
    "\n",
    "**Максимальный пакет подобных услуг - 25000 руб. в месяц**\n",
    "\n",
    "**4 месяца - 100000 руб.**"
   ]
  },
  {
   "cell_type": "markdown",
   "id": "9abdf260",
   "metadata": {},
   "source": [
    "# 2. ЦиклON (https://cycleon.ru/price )"
   ]
  },
  {
   "cell_type": "markdown",
   "id": "927dd6c3",
   "metadata": {},
   "source": [
    "В максимальном пакете услуг предусмотрено **2 очные тренировки в неделю.**\n",
    "\n",
    "- Мониторинг, программа питания, программа фармакологической коррекции.\n",
    "- Стартовый пакет: беговая футболка или кофта, фляжка, плавательная шапочка, толстовка ЦиклON (синяя или белая), соревновательный комбинезон для триатлона (при оплате сразу за 6 месяцев)\n",
    "- Видеоанализ техники движений\n",
    "- Индивидуальный план на гонку\n",
    "- Контроль, анализ и коррекция плана\n",
    "\n",
    "**Максимальный пакет - 30000 руб. в месяц**\n",
    "\n",
    "**4 месяца - 120000 руб.**"
   ]
  },
  {
   "cell_type": "markdown",
   "id": "ad7826c5",
   "metadata": {},
   "source": [
    "# 3. David Warden Coaching (https://main.dwcoaching.ru)"
   ]
  },
  {
   "cell_type": "markdown",
   "id": "76170954",
   "metadata": {},
   "source": [
    "В максимальном пакете услуг не предусмотрены очные тренировки.\n",
    "Каждая очная тренировка оплачивается отдельно - 3000 руб. \n",
    "\n",
    "План на месяц стоит 15000 или 18000 руб.\n",
    "Если берём 2 очные тренировки в неделю: +24000. Надо отметить, что, вероятнее всего, они выходят персональными. \n",
    "\n",
    "Первая встреча с тренером бесплатна. \n",
    "Подписка в Training Peaks входит в пакет услуг.\n",
    "\n",
    "**39000 или 42000 в месяц**\n",
    "\n",
    "**4 месяца - 156000 или 168000 с учетом двух тренировок в неделю**"
   ]
  },
  {
   "cell_type": "markdown",
   "id": "f960b621",
   "metadata": {},
   "source": [
    "# 4. Rullez Team (https://www.rullezteam.com/ru/trainings)"
   ]
  },
  {
   "cell_type": "markdown",
   "id": "c80a3ed6",
   "metadata": {},
   "source": [
    "Максимальный пакет услуг с подстройкой под личные цели спортсмена включает в себя все очные групповые тренировки. Они проходят **от 2 до 4 раз в неделю** в зависимости от цикла подготовки. \n",
    "\n",
    "Тренировки по плаванию и йоге/растяжке оплачиваются отдельно\n",
    "\n",
    "**18000 руб. в месяц**\n",
    "\n",
    "**4 месяца - 72000 руб.**"
   ]
  },
  {
   "cell_type": "markdown",
   "id": "a4e6667c",
   "metadata": {},
   "source": [
    "# 5. Time To Sport"
   ]
  },
  {
   "cell_type": "markdown",
   "id": "afefe8ea",
   "metadata": {},
   "source": [
    "Пакет услуг с 3 очными тренировками в неделю (бег, плавание, велосипед)\n",
    "\"Тренер подведет вас к соревнованию или поможет улучшить спортивную форму\"\n",
    "\n",
    "**14000 или 18000 руб. в месяц (зависит от тренера)**\n",
    "\n",
    "**4 месяца - 56000 или 72000 руб.**"
   ]
  },
  {
   "cell_type": "markdown",
   "id": "8528c8f9",
   "metadata": {},
   "source": [
    "# 6. Red Lava Team (https://redlavateam.com)\n"
   ]
  },
  {
   "cell_type": "markdown",
   "id": "8a0b3494",
   "metadata": {},
   "source": [
    "Максимальный пакет услуг включает в себя планирование сезона и соревнований, 10% скидка на тренировочные сборы, бесплатные коллективные вело-выезды, консультации по питанию\n",
    "\n",
    "**6 очных тренировок в месяц** и скидка 20% на персональные тренировки\n",
    "\n",
    "**35000 руб. в месяц**\n",
    "\n",
    "**4 месяца - 140000 руб.**"
   ]
  },
  {
   "cell_type": "markdown",
   "id": "7390fd1b",
   "metadata": {},
   "source": [
    "# 7. Born4Ironman (https://born4swim.ru/triathlon/in-team)"
   ]
  },
  {
   "cell_type": "markdown",
   "id": "b90b791e",
   "metadata": {},
   "source": [
    "Целевая подготовка 3 месяца - 40000 руб.\n",
    "**1 месяц - 14000 руб.**\n",
    "\n",
    "**4 месяца - 56000 руб.**\n",
    "\n",
    "**2 очные тренировки в неделю**"
   ]
  },
  {
   "cell_type": "markdown",
   "id": "7cc50e14",
   "metadata": {},
   "source": [
    "# 8. Trim Triathlon (https://trim-triathlon.ru)"
   ]
  },
  {
   "cell_type": "markdown",
   "id": "9bca6368",
   "metadata": {},
   "source": [
    "\"Вы выбрали себе старт, тренер подготовит и сделает план с учетом сложности трассы старта на которой вы планируете финишировать\"\n",
    "\n",
    "**2 очные тренировки + контрольная тренировка по плаванию в неделю**\n",
    "\n",
    "**14500 руб. в месяц**\n",
    "\n",
    "**4 месяца - 58000 руб.**"
   ]
  },
  {
   "cell_type": "markdown",
   "id": "3049730c",
   "metadata": {},
   "source": [
    "# 9. Trilogy (http://trilogysport.ru/price)"
   ]
  },
  {
   "cell_type": "markdown",
   "id": "f094aac5",
   "metadata": {},
   "source": [
    "Индивидуальный тренировочный план не предусматривает групповые тренировки. Они оплачиваются отдельно и стоят от 2500 до 3000 руб. \n",
    "\n",
    "**18500 руб. в месяц**\n",
    "\n",
    "**6 групповых тренировок в месяц - 18000**\n",
    "\n",
    "**В сумме - 36500 руб. в месяц**\n",
    "\n",
    "**4 месяца - 146000 руб.**"
   ]
  },
  {
   "cell_type": "markdown",
   "id": "fe886e2f",
   "metadata": {},
   "source": [
    "# 10. Iron Angel (https://iron-angel.ru/price)"
   ]
  },
  {
   "cell_type": "markdown",
   "id": "df282cb5",
   "metadata": {},
   "source": [
    "Индивидуальный тренировочный план не предусматривает очные тренировки. Они оплачиваеются отдельно. Персональная тренировка стоит 2500 руб. \n",
    "\n",
    "15000 или 18000 руб. в месяц (зависит от тренера)\n",
    "6 очных тренировок в месяц - 15000 руб.\n",
    "**В сумме - 30000 или 32000 руб. в месяц**\n",
    "\n",
    "**4 месяца - 120000 или 128000 руб.**"
   ]
  },
  {
   "cell_type": "code",
   "execution_count": 3,
   "id": "f2acdfa0",
   "metadata": {},
   "outputs": [
    {
     "data": {
      "text/html": [
       "<div>\n",
       "<style scoped>\n",
       "    .dataframe tbody tr th:only-of-type {\n",
       "        vertical-align: middle;\n",
       "    }\n",
       "\n",
       "    .dataframe tbody tr th {\n",
       "        vertical-align: top;\n",
       "    }\n",
       "\n",
       "    .dataframe thead th {\n",
       "        text-align: right;\n",
       "    }\n",
       "</style>\n",
       "<table border=\"1\" class=\"dataframe\">\n",
       "  <thead>\n",
       "    <tr style=\"text-align: right;\">\n",
       "      <th></th>\n",
       "      <th>Школа</th>\n",
       "      <th>Стоимость в месяц</th>\n",
       "      <th>Стоимость (4 месяца)</th>\n",
       "    </tr>\n",
       "  </thead>\n",
       "  <tbody>\n",
       "    <tr>\n",
       "      <th>0</th>\n",
       "      <td>Темп</td>\n",
       "      <td>25000</td>\n",
       "      <td>100000</td>\n",
       "    </tr>\n",
       "    <tr>\n",
       "      <th>1</th>\n",
       "      <td>ЦиклON</td>\n",
       "      <td>30000</td>\n",
       "      <td>120000</td>\n",
       "    </tr>\n",
       "    <tr>\n",
       "      <th>2</th>\n",
       "      <td>David Warden Coaching</td>\n",
       "      <td>39000</td>\n",
       "      <td>156000</td>\n",
       "    </tr>\n",
       "    <tr>\n",
       "      <th>3</th>\n",
       "      <td>Rullez Team</td>\n",
       "      <td>18000</td>\n",
       "      <td>72000</td>\n",
       "    </tr>\n",
       "    <tr>\n",
       "      <th>4</th>\n",
       "      <td>Time To Sport</td>\n",
       "      <td>18000</td>\n",
       "      <td>72000</td>\n",
       "    </tr>\n",
       "    <tr>\n",
       "      <th>5</th>\n",
       "      <td>Red Lava Team</td>\n",
       "      <td>35000</td>\n",
       "      <td>140000</td>\n",
       "    </tr>\n",
       "    <tr>\n",
       "      <th>6</th>\n",
       "      <td>Born4Ironman</td>\n",
       "      <td>14000</td>\n",
       "      <td>56000</td>\n",
       "    </tr>\n",
       "    <tr>\n",
       "      <th>7</th>\n",
       "      <td>Trim Triathlon</td>\n",
       "      <td>14500</td>\n",
       "      <td>58000</td>\n",
       "    </tr>\n",
       "    <tr>\n",
       "      <th>8</th>\n",
       "      <td>Trilogy</td>\n",
       "      <td>36500</td>\n",
       "      <td>146000</td>\n",
       "    </tr>\n",
       "    <tr>\n",
       "      <th>9</th>\n",
       "      <td>Iron Angel</td>\n",
       "      <td>32000</td>\n",
       "      <td>128000</td>\n",
       "    </tr>\n",
       "  </tbody>\n",
       "</table>\n",
       "</div>"
      ],
      "text/plain": [
       "                   Школа  Стоимость в месяц  Стоимость (4 месяца)\n",
       "0                   Темп              25000                100000\n",
       "1                 ЦиклON              30000                120000\n",
       "2  David Warden Coaching              39000                156000\n",
       "3            Rullez Team              18000                 72000\n",
       "4          Time To Sport              18000                 72000\n",
       "5          Red Lava Team              35000                140000\n",
       "6           Born4Ironman              14000                 56000\n",
       "7         Trim Triathlon              14500                 58000\n",
       "8                Trilogy              36500                146000\n",
       "9             Iron Angel              32000                128000"
      ]
     },
     "execution_count": 3,
     "metadata": {},
     "output_type": "execute_result"
    }
   ],
   "source": [
    "import pandas as pd\n",
    "data = pd.DataFrame({'Школа': ['Темп', 'ЦиклON', 'David Warden Coaching', 'Rullez Team',\n",
    "                              'Time To Sport', 'Red Lava Team', 'Born4Ironman', \n",
    "                              'Trim Triathlon', 'Trilogy', 'Iron Angel'], \n",
    "                     'Стоимость в месяц': [25000, 30000, 39000, 18000, 18000, 35000, 14000, \n",
    "                                          14500, 36500, 32000],\n",
    "                     'Стоимость (4 месяца)': [100000, 120000, 156000, 72000, 72000, 140000,\n",
    "                                             56000, 58000, 146000, 128000]})\n",
    "data"
   ]
  },
  {
   "cell_type": "markdown",
   "id": "8167e387",
   "metadata": {},
   "source": [
    "Медиана средней цены в месяц:"
   ]
  },
  {
   "cell_type": "code",
   "execution_count": 7,
   "id": "b2d26a11",
   "metadata": {},
   "outputs": [
    {
     "data": {
      "text/plain": [
       "27500.0"
      ]
     },
     "execution_count": 7,
     "metadata": {},
     "output_type": "execute_result"
    }
   ],
   "source": [
    "data['Стоимость в месяц'].median()"
   ]
  },
  {
   "cell_type": "markdown",
   "id": "bc98cc5d",
   "metadata": {},
   "source": [
    "Медиана средней цены за 4 месяца:"
   ]
  },
  {
   "cell_type": "code",
   "execution_count": 6,
   "id": "d4839b7b",
   "metadata": {},
   "outputs": [
    {
     "data": {
      "text/plain": [
       "110000.0"
      ]
     },
     "execution_count": 6,
     "metadata": {},
     "output_type": "execute_result"
    }
   ],
   "source": [
    "data['Стоимость (4 месяца)'].median()"
   ]
  }
 ],
 "metadata": {
  "kernelspec": {
   "display_name": "Python 3",
   "language": "python",
   "name": "python3"
  },
  "language_info": {
   "codemirror_mode": {
    "name": "ipython",
    "version": 3
   },
   "file_extension": ".py",
   "mimetype": "text/x-python",
   "name": "python",
   "nbconvert_exporter": "python",
   "pygments_lexer": "ipython3",
   "version": "3.8.8"
  }
 },
 "nbformat": 4,
 "nbformat_minor": 5
}
