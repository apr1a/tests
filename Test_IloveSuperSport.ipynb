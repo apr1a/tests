{
 "cells": [
  {
   "cell_type": "markdown",
   "id": "efc4fca6",
   "metadata": {},
   "source": [
    "# Достижение цели увеличения выручки"
   ]
  },
  {
   "cell_type": "markdown",
   "id": "68c414c9",
   "metadata": {},
   "source": [
    "Вы пришли в команду I Love Supersport. https://ilovesupersport.com\n",
    "Ключевой продукт в ILSS это офлайн тренировки. По опросу пользователей при выборе школы они ориентируются на следующие факторы: Расположение локации тренировки, Тренер, Расписание, Отзывы.\n",
    "Цель на 20% увеличить выручку.\n",
    "\n",
    "Распишите по шагам ваше предложение по достижению цели и сделайте просчет в таблице. За счёт каких факторов и продуктов вы планируете достичь цель?\n"
   ]
  },
  {
   "cell_type": "markdown",
   "id": "b186c524",
   "metadata": {},
   "source": [
    "## Создаём наглядную таблицу\n",
    " \n",
    " - school_type - тип школы\n",
    " - tariff - стоимость услуги\n",
    " - groups - количество групп на данный момент\n",
    " - people_for_group - количество людей в группе (берём за основу максимальное)\n",
    " - revenue_now - выручка сейчас\n",
    " - percent - 20% от настоящей выручки\n",
    " - future_revenue - желаемая выручка (+20%)"
   ]
  },
  {
   "cell_type": "code",
   "execution_count": 80,
   "id": "7edacb13",
   "metadata": {},
   "outputs": [],
   "source": [
    "import pandas as pd\n",
    "import matplotlib as plt\n",
    "import seaborn as sns"
   ]
  },
  {
   "cell_type": "code",
   "execution_count": 21,
   "id": "8f5687e4",
   "metadata": {},
   "outputs": [
    {
     "data": {
      "text/html": [
       "<div>\n",
       "<style scoped>\n",
       "    .dataframe tbody tr th:only-of-type {\n",
       "        vertical-align: middle;\n",
       "    }\n",
       "\n",
       "    .dataframe tbody tr th {\n",
       "        vertical-align: top;\n",
       "    }\n",
       "\n",
       "    .dataframe thead th {\n",
       "        text-align: right;\n",
       "    }\n",
       "</style>\n",
       "<table border=\"1\" class=\"dataframe\">\n",
       "  <thead>\n",
       "    <tr style=\"text-align: right;\">\n",
       "      <th></th>\n",
       "      <th>school_type</th>\n",
       "      <th>tariff</th>\n",
       "      <th>groups</th>\n",
       "      <th>people_for_group</th>\n",
       "      <th>revenue_now</th>\n",
       "      <th>percent</th>\n",
       "      <th>future_revenue</th>\n",
       "    </tr>\n",
       "  </thead>\n",
       "  <tbody>\n",
       "    <tr>\n",
       "      <th>0</th>\n",
       "      <td>школа бега</td>\n",
       "      <td>10800</td>\n",
       "      <td>10</td>\n",
       "      <td>20</td>\n",
       "      <td>2160000</td>\n",
       "      <td>432000.0</td>\n",
       "      <td>2592000.0</td>\n",
       "    </tr>\n",
       "    <tr>\n",
       "      <th>1</th>\n",
       "      <td>runpass</td>\n",
       "      <td>9100</td>\n",
       "      <td>20</td>\n",
       "      <td>20</td>\n",
       "      <td>3640000</td>\n",
       "      <td>728000.0</td>\n",
       "      <td>4368000.0</td>\n",
       "    </tr>\n",
       "  </tbody>\n",
       "</table>\n",
       "</div>"
      ],
      "text/plain": [
       "  school_type  tariff  groups  people_for_group  revenue_now   percent  \\\n",
       "0  школа бега   10800      10                20      2160000  432000.0   \n",
       "1     runpass    9100      20                20      3640000  728000.0   \n",
       "\n",
       "   future_revenue  \n",
       "0       2592000.0  \n",
       "1       4368000.0  "
      ]
     },
     "execution_count": 21,
     "metadata": {},
     "output_type": "execute_result"
    }
   ],
   "source": [
    "data = pd.DataFrame({'school_type': ['школа бега', 'runpass'], 'tariff': [10800, 9100], 'groups': [10, 20], 'people_for_group': [20, 20]})\n",
    "data['revenue_now'] = data['groups']*data['people_for_group']*data['tariff']\n",
    "data['percent'] = data['revenue_now']*0.2\n",
    "data['future_revenue'] = data['revenue_now']+ data['percent']\n",
    "data"
   ]
  },
  {
   "cell_type": "code",
   "execution_count": 40,
   "id": "99c6b229",
   "metadata": {},
   "outputs": [
    {
     "name": "stdout",
     "output_type": "stream",
     "text": [
      "Желаемый прирост прибыли: 1160000.0\n"
     ]
    }
   ],
   "source": [
    "print('Желаемый прирост прибыли:', data['percent'].sum())"
   ]
  },
  {
   "cell_type": "markdown",
   "id": "2f6f794a",
   "metadata": {},
   "source": [
    "По опросу пользователей при выборе школы они ориентируются на следующие факторы: \n",
    "- Расположение локации тренировки\n",
    "- Тренер\n",
    "- Расписание\n",
    "- Отзывы"
   ]
  },
  {
   "cell_type": "markdown",
   "id": "7cb02571",
   "metadata": {},
   "source": [
    "## Способы увеличения выручки"
   ]
  },
  {
   "cell_type": "markdown",
   "id": "f0ebe17e",
   "metadata": {},
   "source": [
    "Одними из самых эффективных способов являются\n",
    "- cross-sell - методика перекрёстных продаж\n",
    "- up-sell - методика, направленная на поднятие суммы\n",
    "\n",
    "Рассмотрим каждый из них на нашем примере\n"
   ]
  },
  {
   "cell_type": "markdown",
   "id": "c6ee7b49",
   "metadata": {},
   "source": [
    "##  Up-sell"
   ]
  },
  {
   "cell_type": "markdown",
   "id": "8ffa9ed1",
   "metadata": {},
   "source": [
    "1. Расположение локации\n",
    "\n",
    "   Всего имеется 7 варинатов локаций:\n",
    "- «Олимпийский центр братьев Знаменских», м. Сокольники\n",
    "- Парк «Красная Пресня», м. Выставочная, м. Улица 1905 года\n",
    "- Парк «Таганский», м. Марксистская, м. Крестьянская застава\n",
    "- Парк Ходынское поле, м. ЦСКА\n",
    "- Северный спортивный центр «Лужники», м. Спортивная\n",
    "- Южный спортивный центр «Лужники», м. Воробьёвы горы\n",
    "- Парк Дружбы, м. Речной вокзал\n",
    "\n",
    "Среди них стоит выделить две локации в Лужниках, парк \"Таганский\" и парк \"Красная Пресня\".\n",
    "Лужники являются центром притяжения внушительного количества людей, которые неравнодушны к спорту: в этой локации вся инфраструктура направлена на комфорт людей, занимающихся тем или иным видом активности. \n",
    "Две последние упомянутые локации удобно расположены (кольцо/одна станция от кольца), что делает их максимально доступными для большинства клиентов. \n",
    "\n",
    "Из вышесказанного можно сделать вывод, что небольшое поднятие цен в локациях, представляющих бОльший комфорт для людей, не скажется на уменьшении спроса и даст прирост в выручке. \n",
    "Стоит отметить, что данное изменение имеет смысл внести для новопришедших, а на уже постоянных клиентах лучше использовать методику cross-sell"
   ]
  },
  {
   "cell_type": "markdown",
   "id": "5f8158d6",
   "metadata": {},
   "source": [
    "Предположим, что в Лужниках и парках мы поднимаем цену:\n",
    "\n",
    "Лужники -  11300 и 9600\n",
    "Парки - 11000 и 9300\n",
    "\n",
    "В ближайшее время мы набираем 2 группы (на разные тарифы) по 10 человек в Лужниках, и по 2 группы (10 человек) в каждом парке (runpass).\n"
   ]
  },
  {
   "cell_type": "code",
   "execution_count": 36,
   "id": "da0e6ada",
   "metadata": {},
   "outputs": [
    {
     "data": {
      "text/html": [
       "<div>\n",
       "<style scoped>\n",
       "    .dataframe tbody tr th:only-of-type {\n",
       "        vertical-align: middle;\n",
       "    }\n",
       "\n",
       "    .dataframe tbody tr th {\n",
       "        vertical-align: top;\n",
       "    }\n",
       "\n",
       "    .dataframe thead th {\n",
       "        text-align: right;\n",
       "    }\n",
       "</style>\n",
       "<table border=\"1\" class=\"dataframe\">\n",
       "  <thead>\n",
       "    <tr style=\"text-align: right;\">\n",
       "      <th></th>\n",
       "      <th>school_type</th>\n",
       "      <th>tariff</th>\n",
       "      <th>groups</th>\n",
       "      <th>people_for_group</th>\n",
       "      <th>revenue</th>\n",
       "    </tr>\n",
       "  </thead>\n",
       "  <tbody>\n",
       "    <tr>\n",
       "      <th>0</th>\n",
       "      <td>школа бега</td>\n",
       "      <td>11300</td>\n",
       "      <td>2</td>\n",
       "      <td>10</td>\n",
       "      <td>113000</td>\n",
       "    </tr>\n",
       "    <tr>\n",
       "      <th>1</th>\n",
       "      <td>runpass</td>\n",
       "      <td>9600</td>\n",
       "      <td>2</td>\n",
       "      <td>10</td>\n",
       "      <td>96000</td>\n",
       "    </tr>\n",
       "  </tbody>\n",
       "</table>\n",
       "</div>"
      ],
      "text/plain": [
       "  school_type  tariff  groups  people_for_group  revenue\n",
       "0  школа бега   11300       2                10   113000\n",
       "1     runpass    9600       2                10    96000"
      ]
     },
     "execution_count": 36,
     "metadata": {},
     "output_type": "execute_result"
    }
   ],
   "source": [
    "data_luz = pd.DataFrame({'school_type': ['школа бега', 'runpass'], 'tariff': [11300, 9600], 'groups': [2, 2], 'people_for_group': [10, 10]})\n",
    "data_luz['revenue'] = data_luz['tariff']*data_luz['people_for_group']\n",
    "data_luz"
   ]
  },
  {
   "cell_type": "code",
   "execution_count": 38,
   "id": "d12ce72e",
   "metadata": {},
   "outputs": [
    {
     "data": {
      "text/html": [
       "<div>\n",
       "<style scoped>\n",
       "    .dataframe tbody tr th:only-of-type {\n",
       "        vertical-align: middle;\n",
       "    }\n",
       "\n",
       "    .dataframe tbody tr th {\n",
       "        vertical-align: top;\n",
       "    }\n",
       "\n",
       "    .dataframe thead th {\n",
       "        text-align: right;\n",
       "    }\n",
       "</style>\n",
       "<table border=\"1\" class=\"dataframe\">\n",
       "  <thead>\n",
       "    <tr style=\"text-align: right;\">\n",
       "      <th></th>\n",
       "      <th>school_type</th>\n",
       "      <th>tariff</th>\n",
       "      <th>groups</th>\n",
       "      <th>people_for_group</th>\n",
       "      <th>revenue</th>\n",
       "    </tr>\n",
       "  </thead>\n",
       "  <tbody>\n",
       "    <tr>\n",
       "      <th>0</th>\n",
       "      <td>runpass</td>\n",
       "      <td>9300</td>\n",
       "      <td>4</td>\n",
       "      <td>10</td>\n",
       "      <td>372000</td>\n",
       "    </tr>\n",
       "  </tbody>\n",
       "</table>\n",
       "</div>"
      ],
      "text/plain": [
       "  school_type  tariff  groups  people_for_group  revenue\n",
       "0     runpass    9300       4                10   372000"
      ]
     },
     "execution_count": 38,
     "metadata": {},
     "output_type": "execute_result"
    }
   ],
   "source": [
    "data_park = pd.DataFrame({'school_type': [ 'runpass'], 'tariff': [9300], 'groups': [4], 'people_for_group': [10]})\n",
    "data_park['revenue'] = data_park['tariff']*data_park['people_for_group']*4\n",
    "data_park"
   ]
  },
  {
   "cell_type": "code",
   "execution_count": 41,
   "id": "e1960759",
   "metadata": {},
   "outputs": [
    {
     "name": "stdout",
     "output_type": "stream",
     "text": [
      "Дополнительный прирост: 0    581000\n",
      "Name: revenue, dtype: int64\n"
     ]
    }
   ],
   "source": [
    "print('Дополнительный прирост:', data_luz['revenue'].sum()+data_park['revenue'])"
   ]
  },
  {
   "cell_type": "markdown",
   "id": "9fdf6f96",
   "metadata": {},
   "source": [
    "Также было бы возможно на небольшой процент поднять цену услуг у более сертифицированных тренеров  и у тренеров с более хорошими отзывами, но на мой взгляд, более экологичным и клиентоориентированным способом было бы сделать тренировки у данных профессионалов преимущественно в тех локациях, в которых изначально мы подняли цены, чтобы мотивация у клиента прийти именно в это место была выше. По сайту я заметила, что по большей части распределение тренеров по локациям уже придерживается именно такого принципа.\n",
    "\n"
   ]
  },
  {
   "cell_type": "markdown",
   "id": "eb6cbcdc",
   "metadata": {},
   "source": [
    "Помимо этого можно сделать абонементы на 3/6 месяцев, которые были бы более выгодны клиентам при единоразовой оплате, но в моменте компании приносили бы больше прибыли, так как всегда есть жизненные факторы, которые могут повлиять на посещаемость: плохое самочувтсвие, отъезд (командировка, отпуск), внезапные планы. \n",
    "Рассмотрим пример на абонементе на 3 месяца.\n",
    "\n",
    "Вспомним расценки за месяц:"
   ]
  },
  {
   "cell_type": "code",
   "execution_count": 62,
   "id": "c6b38b5f",
   "metadata": {},
   "outputs": [
    {
     "data": {
      "text/html": [
       "<div>\n",
       "<style scoped>\n",
       "    .dataframe tbody tr th:only-of-type {\n",
       "        vertical-align: middle;\n",
       "    }\n",
       "\n",
       "    .dataframe tbody tr th {\n",
       "        vertical-align: top;\n",
       "    }\n",
       "\n",
       "    .dataframe thead th {\n",
       "        text-align: right;\n",
       "    }\n",
       "</style>\n",
       "<table border=\"1\" class=\"dataframe\">\n",
       "  <thead>\n",
       "    <tr style=\"text-align: right;\">\n",
       "      <th></th>\n",
       "      <th>school_type</th>\n",
       "      <th>tariff</th>\n",
       "      <th>groups</th>\n",
       "      <th>people_for_group</th>\n",
       "      <th>revenue_now</th>\n",
       "      <th>percent</th>\n",
       "      <th>future_revenue</th>\n",
       "    </tr>\n",
       "  </thead>\n",
       "  <tbody>\n",
       "    <tr>\n",
       "      <th>0</th>\n",
       "      <td>школа бега</td>\n",
       "      <td>10800</td>\n",
       "      <td>10</td>\n",
       "      <td>20</td>\n",
       "      <td>2160000</td>\n",
       "      <td>432000.0</td>\n",
       "      <td>2592000.0</td>\n",
       "    </tr>\n",
       "    <tr>\n",
       "      <th>1</th>\n",
       "      <td>runpass</td>\n",
       "      <td>9100</td>\n",
       "      <td>20</td>\n",
       "      <td>20</td>\n",
       "      <td>3640000</td>\n",
       "      <td>728000.0</td>\n",
       "      <td>4368000.0</td>\n",
       "    </tr>\n",
       "  </tbody>\n",
       "</table>\n",
       "</div>"
      ],
      "text/plain": [
       "  school_type  tariff  groups  people_for_group  revenue_now   percent  \\\n",
       "0  школа бега   10800      10                20      2160000  432000.0   \n",
       "1     runpass    9100      20                20      3640000  728000.0   \n",
       "\n",
       "   future_revenue  \n",
       "0       2592000.0  \n",
       "1       4368000.0  "
      ]
     },
     "execution_count": 62,
     "metadata": {},
     "output_type": "execute_result"
    }
   ],
   "source": [
    "data"
   ]
  },
  {
   "cell_type": "markdown",
   "id": "8d3173c3",
   "metadata": {},
   "source": [
    "Сумма за 3 месяца тренировок:"
   ]
  },
  {
   "cell_type": "code",
   "execution_count": 65,
   "id": "2920bc3f",
   "metadata": {},
   "outputs": [
    {
     "data": {
      "text/html": [
       "<div>\n",
       "<style scoped>\n",
       "    .dataframe tbody tr th:only-of-type {\n",
       "        vertical-align: middle;\n",
       "    }\n",
       "\n",
       "    .dataframe tbody tr th {\n",
       "        vertical-align: top;\n",
       "    }\n",
       "\n",
       "    .dataframe thead th {\n",
       "        text-align: right;\n",
       "    }\n",
       "</style>\n",
       "<table border=\"1\" class=\"dataframe\">\n",
       "  <thead>\n",
       "    <tr style=\"text-align: right;\">\n",
       "      <th></th>\n",
       "      <th>school_type</th>\n",
       "      <th>tariff</th>\n",
       "      <th>3</th>\n",
       "    </tr>\n",
       "  </thead>\n",
       "  <tbody>\n",
       "    <tr>\n",
       "      <th>0</th>\n",
       "      <td>школа бега</td>\n",
       "      <td>10800</td>\n",
       "      <td>32400</td>\n",
       "    </tr>\n",
       "    <tr>\n",
       "      <th>1</th>\n",
       "      <td>runpass</td>\n",
       "      <td>9100</td>\n",
       "      <td>27300</td>\n",
       "    </tr>\n",
       "  </tbody>\n",
       "</table>\n",
       "</div>"
      ],
      "text/plain": [
       "  school_type  tariff      3\n",
       "0  школа бега   10800  32400\n",
       "1     runpass    9100  27300"
      ]
     },
     "execution_count": 65,
     "metadata": {},
     "output_type": "execute_result"
    }
   ],
   "source": [
    "data_a = pd.DataFrame({'school_type': ['школа бега', 'runpass'], 'tariff': [10800, 9100]})\n",
    "data_a['3'] = data['tariff']*3\n",
    "data_a"
   ]
  },
  {
   "cell_type": "markdown",
   "id": "7c2c7bb9",
   "metadata": {},
   "source": [
    "В специальном предложении обозначим цену в 29500 и 24500 соотвественно \n",
    "\n",
    "Выгода для покупателя - 2900 и 2800 соответственно\n",
    "Это может привлечь клиентов и дать им мотивацию приобретать сразу абонемент. \n",
    "Если предположить, что в среднем покупатели абонемента будут посещать 80% тренировок, а от общей цены без скидки 20% составляют 25920 и 21840, то в плюс получаем 3580 и 2660.\n",
    "\n",
    "Предположим, что 10 человек приобрели абонемент школы бега и 10 человек - абонемент runpass.\n",
    "Выгода составляет приблизительно 35800 и 26600, что в сумме даёт 62400.\n"
   ]
  },
  {
   "cell_type": "markdown",
   "id": "609a7389",
   "metadata": {},
   "source": [
    "## Cross-sell"
   ]
  },
  {
   "cell_type": "markdown",
   "id": "6cbbdaed",
   "metadata": {},
   "source": [
    "Данную методику возможно применить как на новых пользователях, так и на уже активных"
   ]
  },
  {
   "cell_type": "markdown",
   "id": "5877026d",
   "metadata": {},
   "source": [
    "1. Активные пользователи:\n",
    "\n",
    "    В разгар сезона можно напомнить клиентам на очных тренировках/в режиме рассылок/ push-уведомлениями о наличии возможности прийти на индивидуальное занятие, которое сможет более детально определить цель и сориентировать в подготовке, подходящей конкретному человеку. \n",
    "    Это может касаться также не только бега, но и плавания. Можно напомнить, что плавание - тоже кардио, но без ударной нагрузки, что даст возможность сердцу поработать, а ногам восстановиться. А грамотный подход и правильная техника плавания улучшат результат, в чём может помочь индивидуальная тренировка. \n",
    "    Стоимость занятия - 3000 рублей. На данный момент мы имеем 600 пользователей. Если хотя бы 20% заинтересуются таким предложением и посетят 1 индивидуальную тренировку, то мы получим +360000 (120 пользователей*3000)\n",
    "    \n",
    "    \n",
    "2. Новые пользователи:\n",
    "\n",
    "   При регистрации и оформлении можно напомнить клинетам о возможности пройти индивидуальный онлайн-скрининг для бегунов. Если 50 человек воспользуются этой опцией, то мы получим +49500 (50*990) \n",
    "   \n",
    "   \n",
    "   \n",
    "И активным, и новым пользователям можно напомнить о возможности поехать на беговой кэмп в Кисловодск или Приэльбрусье, что станет отличной возможностью выйти на новый уровень, найти близких по духу людей и тренироваться под руководством высококлассных тренеров. Отталкиваемся от 600 настоящих пользователей (и +100 новых). Если 20 человек зарегистрируются на кэмп, то мы получим +518000 (20*25900)"
   ]
  },
  {
   "cell_type": "markdown",
   "id": "385bd8fc",
   "metadata": {},
   "source": [
    "Также рассмотрим варианты, в которых предположить конкретную выручку без вводных данных будет довольно сложно, но идеи могут быть полезны в реализации и прироста прибыли:\n",
    "\n",
    "1. Тренировка с именитым/известным спортсменом\n",
    "2. Мастер-класс по тейпированию/самомассажу\n",
    "3. Встреча/лекция с нутрициологом (советы по питанию)\n",
    "\n",
    "Данные опции могут привлечь новых клиентов, если помимо анонса на сайте/в приложении сделать таргетированную рекламу. А уже активным пользователям можно предложить небольшую скидку (в районе 10%), что увеличит их лояльность."
   ]
  },
  {
   "cell_type": "markdown",
   "id": "0c4e4369",
   "metadata": {},
   "source": [
    "## Суммирование и подведение итогов"
   ]
  },
  {
   "cell_type": "markdown",
   "id": "040fcbe9",
   "metadata": {},
   "source": [
    "Объединяем результаты\n",
        "\n",
    "Рассмотрим, какую прибыль принёс каждый из способов"
   ]
  },
  {
   "cell_type": "code",
   "execution_count": 71,
   "id": "f5b338c3",
   "metadata": {},
   "outputs": [
    {
     "data": {
      "text/html": [
       "<div>\n",
       "<style scoped>\n",
       "    .dataframe tbody tr th:only-of-type {\n",
       "        vertical-align: middle;\n",
       "    }\n",
       "\n",
       "    .dataframe tbody tr th {\n",
       "        vertical-align: top;\n",
       "    }\n",
       "\n",
       "    .dataframe thead th {\n",
       "        text-align: right;\n",
       "    }\n",
       "</style>\n",
       "<table border=\"1\" class=\"dataframe\">\n",
       "  <thead>\n",
       "    <tr style=\"text-align: right;\">\n",
       "      <th></th>\n",
       "      <th>method</th>\n",
       "      <th>earning</th>\n",
       "    </tr>\n",
       "  </thead>\n",
       "  <tbody>\n",
       "    <tr>\n",
       "      <th>0</th>\n",
       "      <td>location</td>\n",
       "      <td>581000</td>\n",
       "    </tr>\n",
       "    <tr>\n",
       "      <th>1</th>\n",
       "      <td>subscription</td>\n",
       "      <td>62400</td>\n",
       "    </tr>\n",
       "    <tr>\n",
       "      <th>2</th>\n",
       "      <td>training</td>\n",
       "      <td>360000</td>\n",
       "    </tr>\n",
       "    <tr>\n",
       "      <th>3</th>\n",
       "      <td>screening</td>\n",
       "      <td>49500</td>\n",
       "    </tr>\n",
       "    <tr>\n",
       "      <th>4</th>\n",
       "      <td>camp</td>\n",
       "      <td>518000</td>\n",
       "    </tr>\n",
       "  </tbody>\n",
       "</table>\n",
       "</div>"
      ],
      "text/plain": [
       "         method  earning\n",
       "0      location   581000\n",
       "1  subscription    62400\n",
       "2      training   360000\n",
       "3     screening    49500\n",
       "4          camp   518000"
      ]
     },
     "execution_count": 71,
     "metadata": {},
     "output_type": "execute_result"
    }
   ],
   "source": [
    "method = pd.DataFrame({'method': ['location', 'subscription', 'training', 'screening', 'camp'], 'earning': [581000, 62400, 360000, 49500, 518000]})\n",
    "method"
   ]
  },
  {
   "cell_type": "markdown",
   "id": "77dff8d5",
   "metadata": {},
   "source": [
    "Рассмторим, какой стала прибыль после внедрения вышеперечисленных пунктов"
   ]
  },
  {
   "cell_type": "code",
   "execution_count": 89,
   "id": "b895a0c6",
   "metadata": {},
   "outputs": [
    {
     "data": {
      "text/html": [
       "<div>\n",
       "<style scoped>\n",
       "    .dataframe tbody tr th:only-of-type {\n",
       "        vertical-align: middle;\n",
       "    }\n",
       "\n",
       "    .dataframe tbody tr th {\n",
       "        vertical-align: top;\n",
       "    }\n",
       "\n",
       "    .dataframe thead th {\n",
       "        text-align: right;\n",
       "    }\n",
       "</style>\n",
       "<table border=\"1\" class=\"dataframe\">\n",
       "  <thead>\n",
       "    <tr style=\"text-align: right;\">\n",
       "      <th></th>\n",
       "      <th>time</th>\n",
       "      <th>earn</th>\n",
       "    </tr>\n",
       "  </thead>\n",
       "  <tbody>\n",
       "    <tr>\n",
       "      <th>0</th>\n",
       "      <td>before</td>\n",
       "      <td>6960000</td>\n",
       "    </tr>\n",
       "    <tr>\n",
       "      <th>1</th>\n",
       "      <td>after</td>\n",
       "      <td>8530900</td>\n",
       "    </tr>\n",
       "  </tbody>\n",
       "</table>\n",
       "</div>"
      ],
      "text/plain": [
       "     time     earn\n",
       "0  before  6960000\n",
       "1   after  8530900"
      ]
     },
     "execution_count": 89,
     "metadata": {},
     "output_type": "execute_result"
    }
   ],
   "source": [
    "growing = pd.DataFrame({'time': ['before', 'after'], 'earn': [6960000, 8530900]})\n",
    "growing"
   ]
  },
  {
   "cell_type": "code",
   "execution_count": 90,
   "id": "52768a68",
   "metadata": {},
   "outputs": [
    {
     "data": {
      "text/plain": [
       "<AxesSubplot:>"
      ]
     },
     "execution_count": 90,
     "metadata": {},
     "output_type": "execute_result"
    },
    {
     "data": {
      "image/png": "[encoded data removed]",
      "text/plain": [
       "<Figure size 432x288 with 1 Axes>"
      ]
     },
     "metadata": {
      "needs_background": "light"
     },
     "output_type": "display_data"
    }
   ],
   "source": [
    "growing\n",
    "growing.plot()"
   ]
  },
  {
   "cell_type": "code",
   "execution_count": 72,
   "id": "7d859587",
   "metadata": {},
   "outputs": [
    {
     "name": "stdout",
     "output_type": "stream",
     "text": [
      "Общий прирост предполагаемой выручки: 1570900\n"
     ]
    }
   ],
   "source": [
    "print('Общий прирост предполагаемой выручки:', method['earning'].sum())"
   ]
  },
  {
   "cell_type": "markdown",
   "id": "8d0e8478",
   "metadata": {},
   "source": [
    "Вышеперечисленными способами возможно увеличить выручку на 22,5%"
   ]
  },
  {
   "cell_type": "markdown",
   "id": "78940d8a",
   "metadata": {},
   "source": [
    "## Общий вывод\n",
    "\n",
    "Отталикаваясь от предоставленных данных, мы попробовали рассчитать возможные варианты увеличения выручки, среди которых:\n",
    "\n",
    "1. Увеличение цен в локациях, пользующихся наибольшим спросом\n",
    "2. Создание абонементов на более продолжительный срок\n",
    "3. Предложение индивидуальных тренировок по бегу/плаванию\n",
    "4. Предложение онлайн-скрининга\n",
    "5. Предложение бегового кэмпа\n",
    "\n",
    "6*. Дополнительные тренировки/мастер-классы/лекции с приглашёнными людьми\n",
    "\n",
    "В результате расчётов мы получили предполагаемый прирост выручки на 22,5% без учёта последнего пункта\n",
    "\n",
    "(Все расчёты сделаны предположительными и приблизительными)"
   ]
  }
 ],
 "metadata": {
  "kernelspec": {
   "display_name": "Python 3",
   "language": "python",
   "name": "python3"
  },
  "language_info": {
   "codemirror_mode": {
    "name": "ipython",
    "version": 3
   },
   "file_extension": ".py",
   "mimetype": "text/x-python",
   "name": "python",
   "nbconvert_exporter": "python",
   "pygments_lexer": "ipython3",
   "version": "3.8.8"
  }
 },
 "nbformat": 4,
 "nbformat_minor": 5
}
