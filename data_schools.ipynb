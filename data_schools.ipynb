{
 "cells": [
  {
   "cell_type": "markdown",
   "id": "4ba5b49f",
   "metadata": {},
   "source": [
    "# Исследование рынка/конкурентов"
   ]
  },
  {
   "cell_type": "markdown",
   "id": "8f440269",
   "metadata": {},
   "source": [
    "### Беговые школы\n",
    "\n",
    "Собираем данные по крупным школам бега\n",
    "\n",
    "Описание данных:\n",
    "- club_name - название школы\n",
    "- city_location - город расположения\n",
    "- test_train - наличие пробной тренировки\n",
    "- personal_train - наличие услуги персональных тренировок\n",
    "- pass_duration - длительность абонемента (количество занятий)\n",
    "- pass_cost - стоимость абонемента\n",
    "- start_pack - наличие стартового пакета\n",
    "- levels - наличие разделения на уровни\n",
    "- medical_support - медицинские консультации\n",
    "- corporate_team - наличие услуг для корпоративных команд"
   ]
  },
  {
   "cell_type": "code",
   "execution_count": 1,
   "id": "104642cb",
   "metadata": {},
   "outputs": [],
   "source": [
    "import pandas as pd\n",
    "import matplotlib as plt\n",
    "import seaborn as sns"
   ]
  },
  {
   "cell_type": "code",
   "execution_count": 59,
   "id": "c3a3839e",
   "metadata": {},
   "outputs": [],
   "source": [
    "data = pd.DataFrame({'club_name': ['Академия Марафона', 'Run Faq', 'Run-Studio', 'RUNLABCLUB', 'Adidas Runners', 'PRO бег', 'Run Or Die', 'Gepard', 'Jaxtor', 'Типичный марафонец', 'ProRunning', 'Второе Дыхание', 'Stride', 'Running Expert', 'Pirahna Running Club', 'Runtime', 'Runners', 'Чемпион'], \n",
    "                     'city_location': ['Москва', 'Москва', 'Москва', 'Москва', 'Москва', 'С-П', 'Москва', 'Москва', 'Москва', 'С-П', 'С-П', 'С-П', 'Москва', 'Москва', 'Москва', 'Екб', 'Москва/НовСиб/Томск', 'Москва'], \n",
    "                     'test_train': [1, 0, 0, 1, 1, 0, 0, 0, 1, 1, 1, 0, 0, 1, 0, 1, 0, 0], \n",
    "                     'personal_train': [0, 1, 1, 0, 1, 1, 1, 1, 0, 1, 1, 1, 0, 1, 0, 0, 1, 1], \n",
    "                     'pass_duration': [8, 8, 8, 8, 8, 8, 8, 8, 8, 8, 8, 8, 8, 8, 8, 8, 9, 8],\n",
    "                     'pass_cost': [12000, 9990, 8000, 9990, 7999, 6000, 10000, 8000, 7000, 7500, 8500, 5000, 9990, 8700, 5000, 5600, 5000, 8000 ],\n",
    "                     'start_pack': [1, 0, 0, 1, 0, 0, 0, 0, 0, 0, 0, 0, 0, 0, 0, 0, 1, 0],\n",
    "                     'levels': [0, 0, 1, 0, 0, 0, 0, 0, 0, 0, 1, 1, 1, 0, 0, 1, 0, 0],\n",
    "                     'medical_support': [0, 0, 0, 0, 0, 0, 0, 0, 0, 0, 1, 1, 0, 0, 0, 0, 1, 0],\n",
    "                     'corporate_team': [1, 0, 1, 1, 0, 0, 1, 1, 1, 0, 0, 1, 0, 0, 0, 1, 1, 1],\n",
    "                     'website': ['https://academymarathon.ru', 'https://runfaq.ru', 'https://run-studio.com', \n",
    "                               'http://runlabclub.ru', 'https://services.adidas.ru',\n",
    "                               'https://probeg-project.ru', 'https://runordie.ru',\n",
    "                               'http://marathonclubgepard.ru', 'https://jaxtor.ru',\n",
    "                               'http://tprun.ru', 'http://prorunning.ru',\n",
    "                               'https://vk.com/vdrunclub', 'https://striderunning.ru/striderunningclub2142',\n",
    "                                'https://runningexpert.ru', 'https://piranharunning.com', 'https://runtimeclub.ru',\n",
    "                                'http://runschool.ru', \n",
    "                                'https://beg.moscow']})"
   ]
  },
  {
   "cell_type": "code",
   "execution_count": 60,
   "id": "0a8b2dff",
   "metadata": {
    "scrolled": true
   },
   "outputs": [
    {
     "data": {
      "text/html": [
       "<div>\n",
       "<style scoped>\n",
       "    .dataframe tbody tr th:only-of-type {\n",
       "        vertical-align: middle;\n",
       "    }\n",
       "\n",
       "    .dataframe tbody tr th {\n",
       "        vertical-align: top;\n",
       "    }\n",
       "\n",
       "    .dataframe thead th {\n",
       "        text-align: right;\n",
       "    }\n",
       "</style>\n",
       "<table border=\"1\" class=\"dataframe\">\n",
       "  <thead>\n",
       "    <tr style=\"text-align: right;\">\n",
       "      <th></th>\n",
       "      <th>club_name</th>\n",
       "      <th>city_location</th>\n",
       "      <th>test_train</th>\n",
       "      <th>personal_train</th>\n",
       "      <th>pass_duration</th>\n",
       "      <th>pass_cost</th>\n",
       "      <th>start_pack</th>\n",
       "      <th>levels</th>\n",
       "      <th>medical_support</th>\n",
       "      <th>corporate_team</th>\n",
       "      <th>website</th>\n",
       "    </tr>\n",
       "  </thead>\n",
       "  <tbody>\n",
       "    <tr>\n",
       "      <th>0</th>\n",
       "      <td>Академия Марафона</td>\n",
       "      <td>Москва</td>\n",
       "      <td>1</td>\n",
       "      <td>0</td>\n",
       "      <td>8</td>\n",
       "      <td>12000</td>\n",
       "      <td>1</td>\n",
       "      <td>0</td>\n",
       "      <td>0</td>\n",
       "      <td>1</td>\n",
       "      <td>https://academymarathon.ru</td>\n",
       "    </tr>\n",
       "    <tr>\n",
       "      <th>1</th>\n",
       "      <td>Run Faq</td>\n",
       "      <td>Москва</td>\n",
       "      <td>0</td>\n",
       "      <td>1</td>\n",
       "      <td>8</td>\n",
       "      <td>9990</td>\n",
       "      <td>0</td>\n",
       "      <td>0</td>\n",
       "      <td>0</td>\n",
       "      <td>0</td>\n",
       "      <td>https://runfaq.ru</td>\n",
       "    </tr>\n",
       "    <tr>\n",
       "      <th>2</th>\n",
       "      <td>Run-Studio</td>\n",
       "      <td>Москва</td>\n",
       "      <td>0</td>\n",
       "      <td>1</td>\n",
       "      <td>8</td>\n",
       "      <td>8000</td>\n",
       "      <td>0</td>\n",
       "      <td>1</td>\n",
       "      <td>0</td>\n",
       "      <td>1</td>\n",
       "      <td>https://run-studio.com</td>\n",
       "    </tr>\n",
       "    <tr>\n",
       "      <th>3</th>\n",
       "      <td>RUNLABCLUB</td>\n",
       "      <td>Москва</td>\n",
       "      <td>1</td>\n",
       "      <td>0</td>\n",
       "      <td>8</td>\n",
       "      <td>9990</td>\n",
       "      <td>1</td>\n",
       "      <td>0</td>\n",
       "      <td>0</td>\n",
       "      <td>1</td>\n",
       "      <td>http://runlabclub.ru</td>\n",
       "    </tr>\n",
       "    <tr>\n",
       "      <th>4</th>\n",
       "      <td>Adidas Runners</td>\n",
       "      <td>Москва</td>\n",
       "      <td>1</td>\n",
       "      <td>1</td>\n",
       "      <td>8</td>\n",
       "      <td>7999</td>\n",
       "      <td>0</td>\n",
       "      <td>0</td>\n",
       "      <td>0</td>\n",
       "      <td>0</td>\n",
       "      <td>https://services.adidas.ru</td>\n",
       "    </tr>\n",
       "    <tr>\n",
       "      <th>5</th>\n",
       "      <td>PRO бег</td>\n",
       "      <td>С-П</td>\n",
       "      <td>0</td>\n",
       "      <td>1</td>\n",
       "      <td>8</td>\n",
       "      <td>6000</td>\n",
       "      <td>0</td>\n",
       "      <td>0</td>\n",
       "      <td>0</td>\n",
       "      <td>0</td>\n",
       "      <td>https://probeg-project.ru</td>\n",
       "    </tr>\n",
       "    <tr>\n",
       "      <th>6</th>\n",
       "      <td>Run Or Die</td>\n",
       "      <td>Москва</td>\n",
       "      <td>0</td>\n",
       "      <td>1</td>\n",
       "      <td>8</td>\n",
       "      <td>10000</td>\n",
       "      <td>0</td>\n",
       "      <td>0</td>\n",
       "      <td>0</td>\n",
       "      <td>1</td>\n",
       "      <td>https://runordie.ru</td>\n",
       "    </tr>\n",
       "    <tr>\n",
       "      <th>7</th>\n",
       "      <td>Gepard</td>\n",
       "      <td>Москва</td>\n",
       "      <td>0</td>\n",
       "      <td>1</td>\n",
       "      <td>8</td>\n",
       "      <td>8000</td>\n",
       "      <td>0</td>\n",
       "      <td>0</td>\n",
       "      <td>0</td>\n",
       "      <td>1</td>\n",
       "      <td>http://marathonclubgepard.ru</td>\n",
       "    </tr>\n",
       "    <tr>\n",
       "      <th>8</th>\n",
       "      <td>Jaxtor</td>\n",
       "      <td>Москва</td>\n",
       "      <td>1</td>\n",
       "      <td>0</td>\n",
       "      <td>8</td>\n",
       "      <td>7000</td>\n",
       "      <td>0</td>\n",
       "      <td>0</td>\n",
       "      <td>0</td>\n",
       "      <td>1</td>\n",
       "      <td>https://jaxtor.ru</td>\n",
       "    </tr>\n",
       "    <tr>\n",
       "      <th>9</th>\n",
       "      <td>Типичный марафонец</td>\n",
       "      <td>С-П</td>\n",
       "      <td>1</td>\n",
       "      <td>1</td>\n",
       "      <td>8</td>\n",
       "      <td>7500</td>\n",
       "      <td>0</td>\n",
       "      <td>0</td>\n",
       "      <td>0</td>\n",
       "      <td>0</td>\n",
       "      <td>http://tprun.ru</td>\n",
       "    </tr>\n",
       "    <tr>\n",
       "      <th>10</th>\n",
       "      <td>ProRunning</td>\n",
       "      <td>С-П</td>\n",
       "      <td>1</td>\n",
       "      <td>1</td>\n",
       "      <td>8</td>\n",
       "      <td>8500</td>\n",
       "      <td>0</td>\n",
       "      <td>1</td>\n",
       "      <td>1</td>\n",
       "      <td>0</td>\n",
       "      <td>http://prorunning.ru</td>\n",
       "    </tr>\n",
       "    <tr>\n",
       "      <th>11</th>\n",
       "      <td>Второе Дыхание</td>\n",
       "      <td>С-П</td>\n",
       "      <td>0</td>\n",
       "      <td>1</td>\n",
       "      <td>8</td>\n",
       "      <td>5000</td>\n",
       "      <td>0</td>\n",
       "      <td>1</td>\n",
       "      <td>1</td>\n",
       "      <td>1</td>\n",
       "      <td>https://vk.com/vdrunclub</td>\n",
       "    </tr>\n",
       "    <tr>\n",
       "      <th>12</th>\n",
       "      <td>Stride</td>\n",
       "      <td>Москва</td>\n",
       "      <td>0</td>\n",
       "      <td>0</td>\n",
       "      <td>8</td>\n",
       "      <td>9990</td>\n",
       "      <td>0</td>\n",
       "      <td>1</td>\n",
       "      <td>0</td>\n",
       "      <td>0</td>\n",
       "      <td>https://striderunning.ru/striderunningclub2142</td>\n",
       "    </tr>\n",
       "    <tr>\n",
       "      <th>13</th>\n",
       "      <td>Running Expert</td>\n",
       "      <td>Москва</td>\n",
       "      <td>1</td>\n",
       "      <td>1</td>\n",
       "      <td>8</td>\n",
       "      <td>8700</td>\n",
       "      <td>0</td>\n",
       "      <td>0</td>\n",
       "      <td>0</td>\n",
       "      <td>0</td>\n",
       "      <td>https://runningexpert.ru</td>\n",
       "    </tr>\n",
       "    <tr>\n",
       "      <th>14</th>\n",
       "      <td>Pirahna Running Club</td>\n",
       "      <td>Москва</td>\n",
       "      <td>0</td>\n",
       "      <td>0</td>\n",
       "      <td>8</td>\n",
       "      <td>5000</td>\n",
       "      <td>0</td>\n",
       "      <td>0</td>\n",
       "      <td>0</td>\n",
       "      <td>0</td>\n",
       "      <td>https://piranharunning.com</td>\n",
       "    </tr>\n",
       "    <tr>\n",
       "      <th>15</th>\n",
       "      <td>Runtime</td>\n",
       "      <td>Екб</td>\n",
       "      <td>1</td>\n",
       "      <td>0</td>\n",
       "      <td>8</td>\n",
       "      <td>5600</td>\n",
       "      <td>0</td>\n",
       "      <td>1</td>\n",
       "      <td>0</td>\n",
       "      <td>1</td>\n",
       "      <td>https://runtimeclub.ru</td>\n",
       "    </tr>\n",
       "    <tr>\n",
       "      <th>16</th>\n",
       "      <td>Runners</td>\n",
       "      <td>Москва/НовСиб/Томск</td>\n",
       "      <td>0</td>\n",
       "      <td>1</td>\n",
       "      <td>9</td>\n",
       "      <td>5000</td>\n",
       "      <td>1</td>\n",
       "      <td>0</td>\n",
       "      <td>1</td>\n",
       "      <td>1</td>\n",
       "      <td>http://runschool.ru</td>\n",
       "    </tr>\n",
       "    <tr>\n",
       "      <th>17</th>\n",
       "      <td>Чемпион</td>\n",
       "      <td>Москва</td>\n",
       "      <td>0</td>\n",
       "      <td>1</td>\n",
       "      <td>8</td>\n",
       "      <td>8000</td>\n",
       "      <td>0</td>\n",
       "      <td>0</td>\n",
       "      <td>0</td>\n",
       "      <td>1</td>\n",
       "      <td>https://beg.moscow</td>\n",
       "    </tr>\n",
       "  </tbody>\n",
       "</table>\n",
       "</div>"
      ],
      "text/plain": [
       "               club_name        city_location  test_train  personal_train  \\\n",
       "0      Академия Марафона               Москва           1               0   \n",
       "1                Run Faq               Москва           0               1   \n",
       "2             Run-Studio               Москва           0               1   \n",
       "3             RUNLABCLUB               Москва           1               0   \n",
       "4         Adidas Runners               Москва           1               1   \n",
       "5                PRO бег                  С-П           0               1   \n",
       "6             Run Or Die               Москва           0               1   \n",
       "7                 Gepard               Москва           0               1   \n",
       "8                 Jaxtor               Москва           1               0   \n",
       "9     Типичный марафонец                  С-П           1               1   \n",
       "10            ProRunning                  С-П           1               1   \n",
       "11        Второе Дыхание                  С-П           0               1   \n",
       "12                Stride               Москва           0               0   \n",
       "13        Running Expert               Москва           1               1   \n",
       "14  Pirahna Running Club               Москва           0               0   \n",
       "15               Runtime                  Екб           1               0   \n",
       "16               Runners  Москва/НовСиб/Томск           0               1   \n",
       "17               Чемпион               Москва           0               1   \n",
       "\n",
       "    pass_duration  pass_cost  start_pack  levels  medical_support  \\\n",
       "0               8      12000           1       0                0   \n",
       "1               8       9990           0       0                0   \n",
       "2               8       8000           0       1                0   \n",
       "3               8       9990           1       0                0   \n",
       "4               8       7999           0       0                0   \n",
       "5               8       6000           0       0                0   \n",
       "6               8      10000           0       0                0   \n",
       "7               8       8000           0       0                0   \n",
       "8               8       7000           0       0                0   \n",
       "9               8       7500           0       0                0   \n",
       "10              8       8500           0       1                1   \n",
       "11              8       5000           0       1                1   \n",
       "12              8       9990           0       1                0   \n",
       "13              8       8700           0       0                0   \n",
       "14              8       5000           0       0                0   \n",
       "15              8       5600           0       1                0   \n",
       "16              9       5000           1       0                1   \n",
       "17              8       8000           0       0                0   \n",
       "\n",
       "    corporate_team                                         website  \n",
       "0                1                      https://academymarathon.ru  \n",
       "1                0                               https://runfaq.ru  \n",
       "2                1                          https://run-studio.com  \n",
       "3                1                            http://runlabclub.ru  \n",
       "4                0                      https://services.adidas.ru  \n",
       "5                0                       https://probeg-project.ru  \n",
       "6                1                             https://runordie.ru  \n",
       "7                1                    http://marathonclubgepard.ru  \n",
       "8                1                               https://jaxtor.ru  \n",
       "9                0                                 http://tprun.ru  \n",
       "10               0                            http://prorunning.ru  \n",
       "11               1                        https://vk.com/vdrunclub  \n",
       "12               0  https://striderunning.ru/striderunningclub2142  \n",
       "13               0                        https://runningexpert.ru  \n",
       "14               0                      https://piranharunning.com  \n",
       "15               1                          https://runtimeclub.ru  \n",
       "16               1                             http://runschool.ru  \n",
       "17               1                              https://beg.moscow  "
      ]
     },
     "execution_count": 60,
     "metadata": {},
     "output_type": "execute_result"
    }
   ],
   "source": [
    "data"
   ]
  },
  {
   "cell_type": "markdown",
   "id": "b5aeb240",
   "metadata": {},
   "source": [
    "* Running Expert не практикует групповые тренировки после пандемии: данные заполнены средними значениями"
   ]
  },
  {
   "cell_type": "code",
   "execution_count": 4,
   "id": "35c9c7c9",
   "metadata": {},
   "outputs": [
    {
     "name": "stdout",
     "output_type": "stream",
     "text": [
      "Средняя цена за 8 занятий в Москве: 8722.416666666666\n"
     ]
    }
   ],
   "source": [
    "data_moscow = data.loc[(data['city_location'] == 'Москва')]\n",
    "print('Средняя цена за 8 занятий в Москве:', data_moscow['pass_cost'].mean())"
   ]
  },
  {
   "cell_type": "code",
   "execution_count": 5,
   "id": "8ac4c518",
   "metadata": {},
   "outputs": [
    {
     "name": "stdout",
     "output_type": "stream",
     "text": [
      "Средняя цена за 8 занятий в Санкт-Петербурге: 6750.0\n"
     ]
    }
   ],
   "source": [
    "data_sp = data.loc[(data['city_location'] == 'С-П')]\n",
    "print('Средняя цена за 8 занятий в Санкт-Петербурге:', data_sp['pass_cost'].median())"
   ]
  },
  {
   "cell_type": "code",
   "execution_count": 6,
   "id": "dec0432f",
   "metadata": {},
   "outputs": [
    {
     "name": "stdout",
     "output_type": "stream",
     "text": [
      "**НАЛИЧИЕ УСЛУГ ДЛЯ КОРПОРАТИВНЫХ КОМАНД**\n"
     ]
    },
    {
     "data": {
      "text/plain": [
       "<AxesSubplot:xlabel='city_location', ylabel='count'>"
      ]
     },
     "execution_count": 6,
     "metadata": {},
     "output_type": "execute_result"
    },
    {
     "data": {
      "image/png": "[encoded data removed]",
      "text/plain": [
       "<Figure size 432x288 with 1 Axes>"
      ]
     },
     "metadata": {
      "needs_background": "light"
     },
     "output_type": "display_data"
    }
   ],
   "source": [
    "print('**НАЛИЧИЕ УСЛУГ ДЛЯ КОРПОРАТИВНЫХ КОМАНД**')\n",
    "sns.countplot(x='city_location', hue='corporate_team', data=data)"
   ]
  },
  {
   "cell_type": "code",
   "execution_count": 7,
   "id": "12cce382",
   "metadata": {},
   "outputs": [
    {
     "name": "stdout",
     "output_type": "stream",
     "text": [
      "**НАЛИЧИЕ УСЛУГ ПЕРСОНАЛЬНЫХ ТРЕНИРОВОК**\n"
     ]
    },
    {
     "data": {
      "text/plain": [
       "<AxesSubplot:xlabel='city_location', ylabel='count'>"
      ]
     },
     "execution_count": 7,
     "metadata": {},
     "output_type": "execute_result"
    },
    {
     "data": {
      "image/png": "[encoded data removed]",
      "text/plain": [
       "<Figure size 432x288 with 1 Axes>"
      ]
     },
     "metadata": {
      "needs_background": "light"
     },
     "output_type": "display_data"
    }
   ],
   "source": [
    "print('**НАЛИЧИЕ УСЛУГ ПЕРСОНАЛЬНЫХ ТРЕНИРОВОК**')\n",
    "sns.countplot(x='city_location', hue='personal_train', data=data)"
   ]
  },
  {
   "cell_type": "code",
   "execution_count": 8,
   "id": "5818afeb",
   "metadata": {},
   "outputs": [
    {
     "name": "stdout",
     "output_type": "stream",
     "text": [
      "**НАЛИЧИЕ ПРОБНОЙ ТРЕНИРОВКИ**\n"
     ]
    },
    {
     "data": {
      "text/plain": [
       "<AxesSubplot:xlabel='city_location', ylabel='count'>"
      ]
     },
     "execution_count": 8,
     "metadata": {},
     "output_type": "execute_result"
    },
    {
     "data": {
      "image/png": "[encoded data removed]",
      "text/plain": [
       "<Figure size 432x288 with 1 Axes>"
      ]
     },
     "metadata": {
      "needs_background": "light"
     },
     "output_type": "display_data"
    }
   ],
   "source": [
    "print('**НАЛИЧИЕ ПРОБНОЙ ТРЕНИРОВКИ**')\n",
    "sns.countplot(x='city_location', hue='test_train', data=data)"
   ]
  },
  {
   "cell_type": "code",
   "execution_count": 9,
   "id": "6b17ed22",
   "metadata": {},
   "outputs": [
    {
     "name": "stdout",
     "output_type": "stream",
     "text": [
      "**НАЛИЧИЕ РАЗДЕЛЕНИЯ НА УРОВНИ**\n"
     ]
    },
    {
     "data": {
      "text/plain": [
       "<AxesSubplot:xlabel='city_location', ylabel='count'>"
      ]
     },
     "execution_count": 9,
     "metadata": {},
     "output_type": "execute_result"
    },
    {
     "data": {
      "image/png": "[encoded data removed]",
      "text/plain": [
       "<Figure size 432x288 with 1 Axes>"
      ]
     },
     "metadata": {
      "needs_background": "light"
     },
     "output_type": "display_data"
    }
   ],
   "source": [
    "print('**НАЛИЧИЕ РАЗДЕЛЕНИЯ НА УРОВНИ**')\n",
    "sns.countplot(x='city_location', hue='levels', data=data)"
   ]
  },
  {
   "cell_type": "code",
   "execution_count": 10,
   "id": "0fe031c8",
   "metadata": {},
   "outputs": [
    {
     "name": "stdout",
     "output_type": "stream",
     "text": [
      "**НАЛИЧИЕ СТАРТОВОГО ПАКЕТА**\n"
     ]
    },
    {
     "data": {
      "text/plain": [
       "<AxesSubplot:xlabel='city_location', ylabel='count'>"
      ]
     },
     "execution_count": 10,
     "metadata": {},
     "output_type": "execute_result"
    },
    {
     "data": {
      "image/png": "[encoded data removed]",
      "text/plain": [
       "<Figure size 432x288 with 1 Axes>"
      ]
     },
     "metadata": {
      "needs_background": "light"
     },
     "output_type": "display_data"
    }
   ],
   "source": [
    "print('**НАЛИЧИЕ СТАРТОВОГО ПАКЕТА**')\n",
    "sns.countplot(x='city_location', hue='start_pack', data=data)"
   ]
  },
  {
   "cell_type": "code",
   "execution_count": 11,
   "id": "9088db78",
   "metadata": {},
   "outputs": [
    {
     "name": "stdout",
     "output_type": "stream",
     "text": [
      "**МЕДИЦИНСКИЕ КОНСУЛЬТАЦИИ**\n"
     ]
    },
    {
     "data": {
      "text/plain": [
       "<AxesSubplot:xlabel='city_location', ylabel='count'>"
      ]
     },
     "execution_count": 11,
     "metadata": {},
     "output_type": "execute_result"
    },
    {
     "data": {
      "image/png": "[encoded data removed]",
      "text/plain": [
       "<Figure size 432x288 with 1 Axes>"
      ]
     },
     "metadata": {
      "needs_background": "light"
     },
     "output_type": "display_data"
    }
   ],
   "source": [
    "print('**МЕДИЦИНСКИЕ КОНСУЛЬТАЦИИ**')\n",
    "sns.countplot(x='city_location', hue='medical_support', data=data)"
   ]
  },
  {
   "cell_type": "markdown",
   "id": "b45fef08",
   "metadata": {},
   "source": [
    "### Особенности школ бега"
   ]
  },
  {
   "cell_type": "markdown",
   "id": "d9afffb7",
   "metadata": {},
   "source": [
    "####  1. Академия Марафона:\n",
    "- Клубная футболка \n",
    "- Система лояльности с 3 месяца\n",
    "- Пробная тренировка (платная: 1500р)\n",
    "- Видеокурс по технике бега\n",
    "- Подкаст, видеоблог, журнал\n",
    "- Лагерь выходного дня (бег, сапсёрфинг, медитации, баня)\n",
    "\n",
    "#### 2. Run Faq\n",
    "- Блог, подкаст\n",
    "- Разборы брендов/экипировки\n",
    "\n",
    "#### 3. Run-Studio\n",
    "- Есть тренировки в Самаре\n",
    "\n",
    "#### 4. RUNLABCLUB\n",
    "- Курс \"Техника бега\"\n",
    "- Подарочный сертификат\n",
    "- Бесплатный тест на подбор обуви Gait-анализ\n",
    "- Welcome-pack\n",
    "- Партнёрские программы\n",
    "- Детский спортивно-оздоровительный лагерь\n",
    "\n",
    "#### 5. Adidas Runners\n",
    "- Множество вариантов разных пакетов тренировок (как групповых, так и индивидуальных)\n",
    "\n",
    "#### 6. PRO бег\n",
    "- Сборы Кисловодск/Сочи\n",
    "\n",
    "#### 7. Run Or Die\n",
    "- Наличие детских тренировок\n",
    "\n",
    "#### 8. Gepard\n",
    "--\n",
    "\n",
    "#### 9. Jaxtor\n",
    "- Участие в тренировочных сборах клуба (Турция, Кипр)\n",
    "- Консультации по подбору экипировки\n",
    "- Zoom-тренировки на пресс, спину и растяжка\n",
    "\n",
    "#### 10. Типичный марафонец\n",
    "- Cкидка на абонемент в случае цели подготовки к одному из регулярных соревнований\n",
    "\n",
    "#### 11. ProRunning\n",
    "- Консультация спортивного врача\n",
    "- Рекомендации по режиму дня и питанию\n",
    "\n",
    "#### 12. Второе Дыхание\n",
    "- Программа \"Спортивное совершенствование\" 1 год бесплатно\n",
    "\n",
    "#### 13. Stride\n",
    "\n",
    "- Программа лояльности и скидка 15% на продукцию магазина Stride\n",
    "\n",
    "#### 14. Running Expert\n",
    "\n",
    "- Индивидуальные тренировки с выездом в удобную локацию\n",
    "- Журнал (на сайте)\n",
    "\n",
    "#### 15. Pirahna Running Club\n",
    "\n",
    "- План на каждый день каждому ученику, + 2 очные тренировки в Лужниках\n",
    "\n",
    "#### 16. Runtime\n",
    "\n",
    "- Тренировки для детей\n",
    "- Скидки на участие в забегах\n",
    "\n",
    "#### 17. Runners\n",
    "\n",
    "- Тематические встречи и завтраки\n",
    "- Помощь в медицинской диагностике\n",
    "- Майка школы\n",
    "\n",
    "#### 18. Чемпион\n",
    "--"
   ]
  },
  {
   "cell_type": "markdown",
   "id": "5ac75235",
   "metadata": {},
   "source": [
    "## Вывод (школы бега)"
   ]
  },
  {
   "cell_type": "markdown",
   "id": "4e68bf52",
   "metadata": {},
   "source": [
    "1. Большинство клубов в Москве имеет опцию услуг для корпоративных команд, Петербург меньше на это ориентирован\n",
    "2. Большинство клубов Москвы и все рассмотренные клубы Петербурга имеют опцию очных персональных тренировок\n",
    "3. Все рассмотренные клубы имеют опцию пробной тренировки\n",
    "4. Очень редко встречается разделение по уровню подготовки\n",
    "5. Очень редко встречается наличие стартового (welcome) пакета\n",
    "6. В Москве не встречается наличие медицинских консультаций и сопровождения, в Петербурге - единичный случай\n",
    "7. Средняя цена за 8 занятий в Москве составляет 8700 рублей, а в Петербурге - 6750\n",
    "\n",
    "**Ключевая особенность, на которую можно обратить внимание:**\n",
    "\n",
    "Лагерь выходного дня"
   ]
  },
  {
   "cell_type": "markdown",
   "id": "34b4463e",
   "metadata": {},
   "source": [
    "**Преимущества I Love Runnning**\n"
   ]
  },
  {
   "cell_type": "markdown",
   "id": "242424bb",
   "metadata": {},
   "source": [
    "1. Наличие разделения по уровням\n",
    "2. Наличие стартового пакета\n",
    "3. Диагностика опорно-двигательного аппарата\n",
    "4. Поддержка штаба в организационных вопросах\n",
    "5. Медицинские услуги от партнёров I Love Supersport"
   ]
  },
  {
   "cell_type": "markdown",
   "id": "4105a60f",
   "metadata": {},
   "source": [
    "### Школы плавания"
   ]
  },
  {
   "cell_type": "markdown",
   "id": "4b48baba",
   "metadata": {},
   "source": [
    "Собираем данные по крупным школам плавания\n",
    "\n",
    "Описание данных:\n",
    "- club_name - название школы\n",
    "- city_location - город расположения\n",
    "- personal_train - наличие услуги персональных тренировок\n",
    "- child_train - тренировки для детей (есть/нет)\n",
    "- pass_duration - длительность абонемента (количество занятий)\n",
    "- pass_cost - стоимость абонемента\n",
    "- start_pack - наличие стартового пакета\n",
    "- levels - наличие разделения на уровни\n",
    "- open_water - тренировки на открытой воде (есть/нет)\n",
    "\n",
    "\n",
    "*Значение 0 - опция отсутствует\n"
   ]
  },
  {
   "cell_type": "code",
   "execution_count": 29,
   "id": "9a6ca87f",
   "metadata": {},
   "outputs": [
    {
     "data": {
      "text/html": [
       "<div>\n",
       "<style scoped>\n",
       "    .dataframe tbody tr th:only-of-type {\n",
       "        vertical-align: middle;\n",
       "    }\n",
       "\n",
       "    .dataframe tbody tr th {\n",
       "        vertical-align: top;\n",
       "    }\n",
       "\n",
       "    .dataframe thead th {\n",
       "        text-align: right;\n",
       "    }\n",
       "</style>\n",
       "<table border=\"1\" class=\"dataframe\">\n",
       "  <thead>\n",
       "    <tr style=\"text-align: right;\">\n",
       "      <th></th>\n",
       "      <th>club_name</th>\n",
       "      <th>city_location</th>\n",
       "      <th>personal_train</th>\n",
       "      <th>child_train</th>\n",
       "      <th>pass_duration</th>\n",
       "      <th>pass_cost</th>\n",
       "      <th>levels</th>\n",
       "      <th>open_water_dur</th>\n",
       "      <th>open_water_cost</th>\n",
       "      <th>website</th>\n",
       "    </tr>\n",
       "  </thead>\n",
       "  <tbody>\n",
       "    <tr>\n",
       "      <th>0</th>\n",
       "      <td>Swim Rocket</td>\n",
       "      <td>Москва /С-П</td>\n",
       "      <td>3150</td>\n",
       "      <td>2700</td>\n",
       "      <td>месяц</td>\n",
       "      <td>9000</td>\n",
       "      <td>1</td>\n",
       "      <td>4</td>\n",
       "      <td>6000</td>\n",
       "      <td>https://www.swimrocket.ru</td>\n",
       "    </tr>\n",
       "    <tr>\n",
       "      <th>1</th>\n",
       "      <td>Школа Плавания №1</td>\n",
       "      <td>Москва</td>\n",
       "      <td>2750</td>\n",
       "      <td>2750</td>\n",
       "      <td>месяц</td>\n",
       "      <td>9000</td>\n",
       "      <td>0</td>\n",
       "      <td>4</td>\n",
       "      <td>4500</td>\n",
       "      <td>https://swim-school-1.ru</td>\n",
       "    </tr>\n",
       "    <tr>\n",
       "      <th>2</th>\n",
       "      <td>born4swim</td>\n",
       "      <td>Москва /С-П</td>\n",
       "      <td>3000</td>\n",
       "      <td>0</td>\n",
       "      <td>месяц</td>\n",
       "      <td>11000</td>\n",
       "      <td>1</td>\n",
       "      <td>0</td>\n",
       "      <td>0</td>\n",
       "      <td>https://born4swim.ru</td>\n",
       "    </tr>\n",
       "    <tr>\n",
       "      <th>3</th>\n",
       "      <td>Swim Lessons</td>\n",
       "      <td>Москва</td>\n",
       "      <td>2500</td>\n",
       "      <td>2500</td>\n",
       "      <td>месяц</td>\n",
       "      <td>9600</td>\n",
       "      <td>1</td>\n",
       "      <td>4</td>\n",
       "      <td>5000</td>\n",
       "      <td>https://swimlessons.ru</td>\n",
       "    </tr>\n",
       "    <tr>\n",
       "      <th>4</th>\n",
       "      <td>Счастливый Дельфин</td>\n",
       "      <td>Москва</td>\n",
       "      <td>2500</td>\n",
       "      <td>1800</td>\n",
       "      <td>месяц</td>\n",
       "      <td>6000</td>\n",
       "      <td>1</td>\n",
       "      <td>0</td>\n",
       "      <td>0</td>\n",
       "      <td>https://happydolphin.ru</td>\n",
       "    </tr>\n",
       "    <tr>\n",
       "      <th>5</th>\n",
       "      <td>Mevis</td>\n",
       "      <td>Москва /С-П/Подольск/Минск/Берлин/Казань</td>\n",
       "      <td>0</td>\n",
       "      <td>0</td>\n",
       "      <td>месяц</td>\n",
       "      <td>10000</td>\n",
       "      <td>1</td>\n",
       "      <td>8</td>\n",
       "      <td>10000</td>\n",
       "      <td>https://www.swimmer.ru</td>\n",
       "    </tr>\n",
       "    <tr>\n",
       "      <th>6</th>\n",
       "      <td>Splash</td>\n",
       "      <td>Москва</td>\n",
       "      <td>1500</td>\n",
       "      <td>1500</td>\n",
       "      <td>месяц</td>\n",
       "      <td>6200</td>\n",
       "      <td>0</td>\n",
       "      <td>1</td>\n",
       "      <td>1500</td>\n",
       "      <td>https://splash-school.com</td>\n",
       "    </tr>\n",
       "  </tbody>\n",
       "</table>\n",
       "</div>"
      ],
      "text/plain": [
       "            club_name                             city_location  \\\n",
       "0         Swim Rocket                               Москва /С-П   \n",
       "1   Школа Плавания №1                                    Москва   \n",
       "2           born4swim                               Москва /С-П   \n",
       "3        Swim Lessons                                    Москва   \n",
       "4  Счастливый Дельфин                                    Москва   \n",
       "5               Mevis  Москва /С-П/Подольск/Минск/Берлин/Казань   \n",
       "6              Splash                                    Москва   \n",
       "\n",
       "   personal_train  child_train pass_duration  pass_cost  levels  \\\n",
       "0            3150         2700         месяц       9000       1   \n",
       "1            2750         2750         месяц       9000       0   \n",
       "2            3000            0         месяц      11000       1   \n",
       "3            2500         2500         месяц       9600       1   \n",
       "4            2500         1800         месяц       6000       1   \n",
       "5               0            0         месяц      10000       1   \n",
       "6            1500         1500         месяц       6200       0   \n",
       "\n",
       "   open_water_dur  open_water_cost                    website  \n",
       "0               4             6000  https://www.swimrocket.ru  \n",
       "1               4             4500   https://swim-school-1.ru  \n",
       "2               0                0       https://born4swim.ru  \n",
       "3               4             5000     https://swimlessons.ru  \n",
       "4               0                0    https://happydolphin.ru  \n",
       "5               8            10000     https://www.swimmer.ru  \n",
       "6               1             1500  https://splash-school.com  "
      ]
     },
     "execution_count": 29,
     "metadata": {},
     "output_type": "execute_result"
    }
   ],
   "source": [
    "data_swim = pd.DataFrame({'club_name': ['Swim Rocket', 'Школа Плавания №1', 'born4swim', 'Swim Lessons', 'Счастливый Дельфин', 'Mevis', 'Splash'], \n",
    "                     'city_location': ['Москва /С-П', 'Москва', 'Москва /С-П', 'Москва', 'Москва', 'Москва /С-П/Подольск/Минск/Берлин/Казань', 'Москва'], \n",
    "                     'personal_train': [3150, 2750, 3000, 2500, 2500, 0, 1500 ],\n",
    "                     'child_train': [2700, 2750, 0, 2500, 1800, 0, 1500],\n",
    "                     'pass_duration': ['месяц', 'месяц', 'месяц', 'месяц', 'месяц', 'месяц', 'месяц' ],\n",
    "                     'pass_cost': [9000, 9000, 11000, 9600, 6000, 10000, 6200 ],\n",
    "                     'levels': [1, 0, 1, 1, 1, 1, 0],\n",
    "                     'open_water_dur': [4, 4, 0, 4, 0, 8, 1],\n",
    "                     'open_water_cost': [6000, 4500, 0, 5000, 0, 10000, 1500],\n",
    "                     'website': ['https://www.swimrocket.ru',\n",
    "                                 'https://swim-school-1.ru',\n",
    "                                 'https://born4swim.ru',\n",
    "                                 'https://swimlessons.ru',\n",
    "                                 'https://happydolphin.ru',\n",
    "                                 'https://www.swimmer.ru',\n",
    "                                 'https://splash-school.com'\n",
    "                        ]})\n",
    "data_swim"
   ]
  },
  {
   "cell_type": "markdown",
   "id": "bd11d52c",
   "metadata": {},
   "source": [
    "### Особенности школ плавания"
   ]
  },
  {
   "cell_type": "markdown",
   "id": "837d41bc",
   "metadata": {},
   "source": [
    "#### 1. Swim Rocket\n",
    "\n",
    "- Первый шаг - собеседование с тренером\n",
    "- Фирменная шапочка для плавания TYR в подарок\n",
    "- Грудничковое плавание (3 уровня)\n",
    "- Большой выбор различных сборов и лагерей в различных городах\n",
    "- Наличие тренировок по \"сухому плаванию\"\n",
    "- Собственный мерч\n",
    "\n",
    "#### 2. Школа Плавания №1\n",
    "\n",
    "- Разные направления: оздоровительное, спортивное, медитативное, адаптивное(реабилитация) плавание\n",
    "\n",
    "#### 3. born4swim\n",
    "\n",
    "- Тренер в воде\n",
    "- Съёмка под водой для анализа техники во время тренировок\n",
    "- Отдельная программа - подготовка к турнирам\n",
    "- Есть тест на определение уровня\n",
    "- Подготовка к триатлону*\n",
    "\n",
    "#### 4. Swim Lessons\n",
    "\n",
    "- Фото/видео материалы с тренировок\n",
    "- Домашнее задание для самостоятельного плавания\n",
    "- Сборы\n",
    "\n",
    "#### 5. Счастливый Дельфин\n",
    "\n",
    "- Тренировки в бассейнах Королёва\n",
    "- Лучшие спортсмены проходят отбор в БЕСПЛАТНУЮ группу и зачисляются государственную спортшколу\n",
    "- Сборы\n",
    "\n",
    "#### 6. Mevis\n",
    "\n",
    "-  Количество занятий окончательно определяется при формировании группы\n",
    "\n",
    "#### 7. Splash\n",
    "\n",
    "- Реабилитация в бассейне после травм\n",
    "- Занятия для людей с ограниченными возможностями\n",
    "- Подготовка к соревнованиям\n",
    "- Сборы\n",
    "\n",
    "________________________\n",
    "#### MadWave (https://yoswim.ru)\n",
    "\n",
    "- ОФП, водное поло\n",
    "- Цены указаны за одно занятие \n",
    "- Москва\n",
    "\n",
    "#### Кроль (https://teamkrol.ru/#home)\n",
    "\n",
    "- Раздедление на уровни\n",
    "- Цены за месяц занятий от 12500 до 18000\n",
    "- Опция \"Вода и Суша\""
   ]
  },
  {
   "cell_type": "markdown",
   "id": "37a9d69b",
   "metadata": {},
   "source": [
    "## Вывод (школы плавания)\n",
    "\n",
    "1. Каждая школа чаще всего имеет свою продолжительность курсов и расчёт стоимости за него.ё\n",
    "2. Многие школы имеют опцию обучения плаванию на открытой воде\n",
    "3. Многие школы имеют опцию выезда на сборы\n",
    "4. Всего две школы из рассмотренных предлагают опцию \"сухого плавания\" (подготовки на суше)\n",
    "5. Средняя цена за 8 занятий (месяц) по плаванию в Москве - 8700, а за персональную тренировку - 2570\n",
    "\n",
    "**Ключевые особенности, на которые можно обратить внимание:**\n",
    "\n",
    "1. Собеседование с тренером перед началом тренировок\n",
    "2. Реабилитация после травм\n",
    "3. Подводная съёмка для анализа техники\n",
    "4. Домашние задания\n",
    "5. Комплекс - тренировки (вода+суша)"
   ]
  },
  {
   "cell_type": "markdown",
   "id": "e6715074",
   "metadata": {},
   "source": [
    "## Школы триатлона\n",
    "\n",
    "### 1. Лидер (https://prepare.tri-leader.ru) Москва"
   ]
  },
  {
   "cell_type": "markdown",
   "id": "442e6f65",
   "metadata": {},
   "source": [
    "**Данные в таблице:**\n",
    "- tariff - название тарифа\n",
    "- cost - цена за месяц\n",
    "- personal_train -  количество персональных тренировок в месяц\n",
    "- teh_help - постановка техники\n",
    "- nutrition_help - подбор питания\n",
    "- med_help - медицинское сопровождение\n",
    "- coach_choice - выбор тренера"
   ]
  },
  {
   "cell_type": "code",
   "execution_count": 71,
   "id": "0d4cd302",
   "metadata": {},
   "outputs": [
    {
     "data": {
      "text/html": [
       "<div>\n",
       "<style scoped>\n",
       "    .dataframe tbody tr th:only-of-type {\n",
       "        vertical-align: middle;\n",
       "    }\n",
       "\n",
       "    .dataframe tbody tr th {\n",
       "        vertical-align: top;\n",
       "    }\n",
       "\n",
       "    .dataframe thead th {\n",
       "        text-align: right;\n",
       "    }\n",
       "</style>\n",
       "<table border=\"1\" class=\"dataframe\">\n",
       "  <thead>\n",
       "    <tr style=\"text-align: right;\">\n",
       "      <th></th>\n",
       "      <th>tariff</th>\n",
       "      <th>cost</th>\n",
       "      <th>personal_train</th>\n",
       "      <th>teh_help</th>\n",
       "      <th>nutrition_help</th>\n",
       "      <th>med_help</th>\n",
       "      <th>coach_choice</th>\n",
       "    </tr>\n",
       "  </thead>\n",
       "  <tbody>\n",
       "    <tr>\n",
       "      <th>0</th>\n",
       "      <td>Speed</td>\n",
       "      <td>15000</td>\n",
       "      <td>1</td>\n",
       "      <td>0</td>\n",
       "      <td>0</td>\n",
       "      <td>0</td>\n",
       "      <td>0</td>\n",
       "    </tr>\n",
       "    <tr>\n",
       "      <th>1</th>\n",
       "      <td>Endurance</td>\n",
       "      <td>25000</td>\n",
       "      <td>2</td>\n",
       "      <td>1</td>\n",
       "      <td>1</td>\n",
       "      <td>0</td>\n",
       "      <td>0</td>\n",
       "    </tr>\n",
       "    <tr>\n",
       "      <th>2</th>\n",
       "      <td>Personal best</td>\n",
       "      <td>individual</td>\n",
       "      <td>5</td>\n",
       "      <td>1</td>\n",
       "      <td>1</td>\n",
       "      <td>1</td>\n",
       "      <td>1</td>\n",
       "    </tr>\n",
       "  </tbody>\n",
       "</table>\n",
       "</div>"
      ],
      "text/plain": [
       "          tariff        cost  personal_train  teh_help  nutrition_help  \\\n",
       "0          Speed       15000               1         0               0   \n",
       "1      Endurance       25000               2         1               1   \n",
       "2  Personal best  individual               5         1               1   \n",
       "\n",
       "   med_help  coach_choice  \n",
       "0         0             0  \n",
       "1         0             0  \n",
       "2         1             1  "
      ]
     },
     "execution_count": 71,
     "metadata": {},
     "output_type": "execute_result"
    }
   ],
   "source": [
    "tri_lead = pd.DataFrame({'tariff': ['Speed', 'Endurance', 'Personal best'], \n",
    "                     'cost': ['15000', '25000', 'individual' ],\n",
    "                     'personal_train': [1, 2, 5], \n",
    "                     'teh_help': [0, 1, 1],\n",
    "                     'nutrition_help': [0, 1, 1],\n",
    "                     'med_help': [0, 0, 1],\n",
    "                     'coach_choice': [0, 0, 1]})\n",
    "tri_lead"
   ]
  },
  {
   "cell_type": "markdown",
   "id": "aae613ce",
   "metadata": {},
   "source": [
    "**Тарифы:**\n",
    "* **Speed:**\n",
    "   - Индивидуальное составление и корректировка плана\n",
    "   - Участие в групповых тренировках\n",
    "   - Подбор оборудования\n",
    "   - Связь с тренером, мессенджеры и e-mail\n",
    "   - Видео-анализ техники\n",
    "   - Программы восстановления\n",
    "   - Клубные скидки\n",
    "   \n",
    "   \n",
    "* **Endurance** (в дополнение к пакету Speed):\n",
    "\n",
    "   + Специализированные тренировки   \n",
    "   + Коррекция посадки\n",
    "   \n",
    "   \n",
    "   \n",
    "* **Personal best** (в дополнение ко всем вышеперечисленным опциям двух пакетов):\n",
    "\n",
    "   * Сопровождение на соревнованиях\n",
    "   * Связь голосом"
   ]
  },
  {
   "cell_type": "markdown",
   "id": "283b07a1",
   "metadata": {},
   "source": [
    "**Особенности:**\n",
    "- Бесплатное пробное занятие\n",
    "- Тренировки проходят 7 дней в неделю\n",
    "- Дополнительные групповые тренировки вне расписания"
   ]
  },
  {
   "cell_type": "markdown",
   "id": "a67ef0f0",
   "metadata": {},
   "source": [
    "### 2. ЦиклON (https://cycleon.ru) Москва"
   ]
  },
  {
   "cell_type": "markdown",
   "id": "37e26f57",
   "metadata": {},
   "source": [
    "**Данные в таблице:**\n",
    "\n",
    "- tariff - название тарифа\n",
    "- cost - цена за месяц\n",
    "- plan -  составление индивидуального плана\n",
    "- teh_video_help - видеоанализ техники движений\n",
    "- startpack - стартовый пакет\n",
    "- med_help - медицинское сопровождение\n",
    "- offline_train - очные тренировки"
   ]
  },
  {
   "cell_type": "code",
   "execution_count": 61,
   "id": "de04b1e0",
   "metadata": {},
   "outputs": [
    {
     "data": {
      "text/html": [
       "<div>\n",
       "<style scoped>\n",
       "    .dataframe tbody tr th:only-of-type {\n",
       "        vertical-align: middle;\n",
       "    }\n",
       "\n",
       "    .dataframe tbody tr th {\n",
       "        vertical-align: top;\n",
       "    }\n",
       "\n",
       "    .dataframe thead th {\n",
       "        text-align: right;\n",
       "    }\n",
       "</style>\n",
       "<table border=\"1\" class=\"dataframe\">\n",
       "  <thead>\n",
       "    <tr style=\"text-align: right;\">\n",
       "      <th></th>\n",
       "      <th>tariff</th>\n",
       "      <th>cost</th>\n",
       "      <th>plan</th>\n",
       "      <th>teh_video_help</th>\n",
       "      <th>startpack</th>\n",
       "      <th>med_help</th>\n",
       "      <th>offline_train</th>\n",
       "    </tr>\n",
       "  </thead>\n",
       "  <tbody>\n",
       "    <tr>\n",
       "      <th>0</th>\n",
       "      <td>Optimum</td>\n",
       "      <td>20000</td>\n",
       "      <td>individual</td>\n",
       "      <td>1</td>\n",
       "      <td>1</td>\n",
       "      <td>0</td>\n",
       "      <td>отдельная оплата</td>\n",
       "    </tr>\n",
       "    <tr>\n",
       "      <th>1</th>\n",
       "      <td>Exclusive</td>\n",
       "      <td>30000</td>\n",
       "      <td>individual</td>\n",
       "      <td>1</td>\n",
       "      <td>1</td>\n",
       "      <td>1</td>\n",
       "      <td>2 в неделю</td>\n",
       "    </tr>\n",
       "  </tbody>\n",
       "</table>\n",
       "</div>"
      ],
      "text/plain": [
       "      tariff   cost        plan  teh_video_help  startpack  med_help  \\\n",
       "0    Optimum  20000  individual               1          1         0   \n",
       "1  Exclusive  30000  individual               1          1         1   \n",
       "\n",
       "      offline_train  \n",
       "0  отдельная оплата  \n",
       "1        2 в неделю  "
      ]
     },
     "execution_count": 61,
     "metadata": {},
     "output_type": "execute_result"
    }
   ],
   "source": [
    "tri_cycleon = pd.DataFrame({'tariff': ['Optimum', 'Exclusive'], \n",
    "                     'cost': [20000, 30000],\n",
    "                     'plan': ['individual', 'individual'], \n",
    "                     'teh_video_help': [1, 1],\n",
    "                     'startpack': [1, 1],\n",
    "                     'med_help': [0, 1],\n",
    "                     'offline_train': ['отдельная оплата',  '2 в неделю']})\n",
    "tri_cycleon"
   ]
  },
  {
   "cell_type": "markdown",
   "id": "81884274",
   "metadata": {},
   "source": [
    "**Стартовый пакет 'Optimum':**\n",
    "\n",
    "- Беговая футболка или кофта \n",
    "- Фляжка \n",
    "- Плавательная шапочка\n",
    "\n",
    "**Стартовый пакет 'Exclusive':**\n",
    "\n",
    "- Беговая футболка или кофта\n",
    "- Фляжка \n",
    "- Плавательная шапочка \n",
    "- Толстовка ЦиклON (синяя или белая)\n",
    "- Соревновательный комбинезон для триатлона (при оплате сразу за 6 месяцев)"
   ]
  },
  {
   "cell_type": "markdown",
   "id": "3e3897a6",
   "metadata": {},
   "source": [
    "### 3. TRIM triathlon (https://trim-triathlon.ru) Москва"
   ]
  },
  {
   "cell_type": "markdown",
   "id": "d48b5a71",
   "metadata": {},
   "source": [
    "**Данные в таблице:**\n",
    "- tariff - название тарифа\n",
    "- cost - цена за месяц\n",
    "- group -  cовместные групповые тренировки \n",
    "- online_chat - oнлайн-чат"
   ]
  },
  {
   "cell_type": "code",
   "execution_count": 62,
   "id": "25b268c4",
   "metadata": {},
   "outputs": [
    {
     "data": {
      "text/html": [
       "<div>\n",
       "<style scoped>\n",
       "    .dataframe tbody tr th:only-of-type {\n",
       "        vertical-align: middle;\n",
       "    }\n",
       "\n",
       "    .dataframe tbody tr th {\n",
       "        vertical-align: top;\n",
       "    }\n",
       "\n",
       "    .dataframe thead th {\n",
       "        text-align: right;\n",
       "    }\n",
       "</style>\n",
       "<table border=\"1\" class=\"dataframe\">\n",
       "  <thead>\n",
       "    <tr style=\"text-align: right;\">\n",
       "      <th></th>\n",
       "      <th>tariff</th>\n",
       "      <th>cost</th>\n",
       "      <th>group</th>\n",
       "      <th>online_chat</th>\n",
       "    </tr>\n",
       "  </thead>\n",
       "  <tbody>\n",
       "    <tr>\n",
       "      <th>0</th>\n",
       "      <td>Триатлон</td>\n",
       "      <td>14500</td>\n",
       "      <td>бег+велосипед(2/нед)</td>\n",
       "      <td>1</td>\n",
       "    </tr>\n",
       "    <tr>\n",
       "      <th>1</th>\n",
       "      <td>SWIM RUN</td>\n",
       "      <td>10000</td>\n",
       "      <td>бег+плавание(2/нед)</td>\n",
       "      <td>1</td>\n",
       "    </tr>\n",
       "  </tbody>\n",
       "</table>\n",
       "</div>"
      ],
      "text/plain": [
       "     tariff   cost                 group  online_chat\n",
       "0  Триатлон  14500  бег+велосипед(2/нед)            1\n",
       "1  SWIM RUN  10000   бег+плавание(2/нед)            1"
      ]
     },
     "execution_count": 62,
     "metadata": {},
     "output_type": "execute_result"
    }
   ],
   "source": [
    "tri_trim = pd.DataFrame({'tariff': ['Триатлон','SWIM RUN'], \n",
    "                     'cost': [14500, 10000],\n",
    "                     'group': ['бег+велосипед(2/нед)', 'бег+плавание(2/нед)'], \n",
    "                     'online_chat': [1, 1]})\n",
    "tri_trim"
   ]
  },
  {
   "cell_type": "markdown",
   "id": "dc6a8f15",
   "metadata": {},
   "source": [
    "**1. Триатлон:**\n",
    "\n",
    "-  Контрольная тренировка с тренером по технике плавания 1 раз в неделю\n",
    "\n",
    "**+Дистанционное ведение**\n",
    "\n",
    "- 7000/месяц\n",
    "\n",
    "**+Персональные тренировки**\n",
    "\n",
    "- 2500/тренировка"
   ]
  },
  {
   "cell_type": "markdown",
   "id": "938fff88",
   "metadata": {},
   "source": [
    "### 4. Темп (https://temptraining.ru) Ярославская область, г. Рыбинск"
   ]
  },
  {
   "cell_type": "markdown",
   "id": "86d69664",
   "metadata": {},
   "source": [
    "**Данные в таблице:**\n",
    "\n",
    "- tariff - название тарифа\n",
    "- cost - цена за месяц\n",
    "- equip_help -  рекомендации в выборе экипировки и инвентаря\n",
    "- teh_video_help - видеоанализ техники движений\n",
    "- startpack - стартовый пакет\n",
    "- nutrition_help - консультации по выбору спортивного питания\n",
    "- coach_choice - самостоятельный выбор тренера\n",
    "- offline_train - очные тренировки"
   ]
  },
  {
   "cell_type": "code",
   "execution_count": 63,
   "id": "b03244e7",
   "metadata": {},
   "outputs": [
    {
     "data": {
      "text/html": [
       "<div>\n",
       "<style scoped>\n",
       "    .dataframe tbody tr th:only-of-type {\n",
       "        vertical-align: middle;\n",
       "    }\n",
       "\n",
       "    .dataframe tbody tr th {\n",
       "        vertical-align: top;\n",
       "    }\n",
       "\n",
       "    .dataframe thead th {\n",
       "        text-align: right;\n",
       "    }\n",
       "</style>\n",
       "<table border=\"1\" class=\"dataframe\">\n",
       "  <thead>\n",
       "    <tr style=\"text-align: right;\">\n",
       "      <th></th>\n",
       "      <th>tariff</th>\n",
       "      <th>cost</th>\n",
       "      <th>equip_help</th>\n",
       "      <th>teh_video_help</th>\n",
       "      <th>startpack</th>\n",
       "      <th>nutrition_help</th>\n",
       "      <th>coach_choice</th>\n",
       "      <th>offline_train</th>\n",
       "    </tr>\n",
       "  </thead>\n",
       "  <tbody>\n",
       "    <tr>\n",
       "      <th>0</th>\n",
       "      <td>Стандарт</td>\n",
       "      <td>9000</td>\n",
       "      <td>1</td>\n",
       "      <td>1000 руб</td>\n",
       "      <td>0</td>\n",
       "      <td>0</td>\n",
       "      <td>0</td>\n",
       "      <td>2000/раз</td>\n",
       "    </tr>\n",
       "    <tr>\n",
       "      <th>1</th>\n",
       "      <td>Бизнес</td>\n",
       "      <td>14000</td>\n",
       "      <td>1</td>\n",
       "      <td>Ежемесячно каждый вид</td>\n",
       "      <td>0</td>\n",
       "      <td>1</td>\n",
       "      <td>1</td>\n",
       "      <td>2000/раз</td>\n",
       "    </tr>\n",
       "    <tr>\n",
       "      <th>2</th>\n",
       "      <td>Премиум</td>\n",
       "      <td>25000</td>\n",
       "      <td>1</td>\n",
       "      <td>Не ограничено</td>\n",
       "      <td>1</td>\n",
       "      <td>1</td>\n",
       "      <td>1</td>\n",
       "      <td>2 раза в месяц</td>\n",
       "    </tr>\n",
       "  </tbody>\n",
       "</table>\n",
       "</div>"
      ],
      "text/plain": [
       "     tariff   cost  equip_help         teh_video_help  startpack  \\\n",
       "0  Стандарт   9000           1               1000 руб          0   \n",
       "1    Бизнес  14000           1  Ежемесячно каждый вид          0   \n",
       "2   Премиум  25000           1          Не ограничено          1   \n",
       "\n",
       "   nutrition_help  coach_choice   offline_train  \n",
       "0               0             0        2000/раз  \n",
       "1               1             1        2000/раз  \n",
       "2               1             1  2 раза в месяц  "
      ]
     },
     "execution_count": 63,
     "metadata": {},
     "output_type": "execute_result"
    }
   ],
   "source": [
    "tri_temp = pd.DataFrame({'tariff': ['Стандарт', 'Бизнес', 'Премиум'], \n",
    "                     'cost': [9000, 14000, 25000],\n",
    "                     'equip_help': [1, 1, 1], \n",
    "                     'teh_video_help': ['1000 руб', 'Ежемесячно каждый вид', 'Не ограничено'],\n",
    "                     'startpack': [0, 0, 1],\n",
    "                     'nutrition_help': [0, 1, 1],\n",
    "                     'coach_choice': [0, 1, 1],\n",
    "                     'offline_train': ['2000/раз', '2000/раз','2 раза в месяц']})\n",
    "tri_temp"
   ]
  },
  {
   "cell_type": "markdown",
   "id": "cc61deb7",
   "metadata": {},
   "source": [
    "**Особенности:**\n",
    "\n",
    "1. Видеоанализ техники через Coache's Eye\n",
    "2. Коррекция посадки на велосипеде\n",
    "3. Скидки от партнеров на участие в соревнованиях, покупку инвентаря и т.п."
   ]
  },
  {
   "cell_type": "markdown",
   "id": "33279ba7",
   "metadata": {},
   "source": [
    "### 4. Max Pace  (https://maxpace.ru)"
   ]
  },
  {
   "cell_type": "markdown",
   "id": "b1f9ba5e",
   "metadata": {},
   "source": [
    "**Данные в таблице:**\n",
    "\n",
    "- tariff - название тарифа\n",
    "- cost - цена за месяц\n",
    "- start_plan -  выбор старта и план на гонку\n",
    "- nutr_equip_help - консультация по выбору экипировки, спортивному питанию\n",
    "- coach_connect - связь с тренером\n",
    "- teh_video_help - видеоанализ техники движений"
   ]
  },
  {
   "cell_type": "markdown",
   "id": "dc30cb68",
   "metadata": {},
   "source": [
    "**От нуля до первого старта**"
   ]
  },
  {
   "cell_type": "code",
   "execution_count": 64,
   "id": "d2d1a60d",
   "metadata": {},
   "outputs": [
    {
     "data": {
      "text/html": [
       "<div>\n",
       "<style scoped>\n",
       "    .dataframe tbody tr th:only-of-type {\n",
       "        vertical-align: middle;\n",
       "    }\n",
       "\n",
       "    .dataframe tbody tr th {\n",
       "        vertical-align: top;\n",
       "    }\n",
       "\n",
       "    .dataframe thead th {\n",
       "        text-align: right;\n",
       "    }\n",
       "</style>\n",
       "<table border=\"1\" class=\"dataframe\">\n",
       "  <thead>\n",
       "    <tr style=\"text-align: right;\">\n",
       "      <th></th>\n",
       "      <th>tariff</th>\n",
       "      <th>cost</th>\n",
       "      <th>start_plan</th>\n",
       "      <th>coach_connect</th>\n",
       "      <th>nutr_equip_help</th>\n",
       "      <th>teh_video_help</th>\n",
       "    </tr>\n",
       "  </thead>\n",
       "  <tbody>\n",
       "    <tr>\n",
       "      <th>0</th>\n",
       "      <td>Подготовка к старту</td>\n",
       "      <td>6000</td>\n",
       "      <td>выбор старта + план</td>\n",
       "      <td>1 раз в неделю</td>\n",
       "      <td>1</td>\n",
       "      <td>нет</td>\n",
       "    </tr>\n",
       "    <tr>\n",
       "      <th>1</th>\n",
       "      <td>Cтандарт</td>\n",
       "      <td>8000</td>\n",
       "      <td>выбор стартов на сезон + планы</td>\n",
       "      <td>1 раз в неделю</td>\n",
       "      <td>1</td>\n",
       "      <td>ежемесячно</td>\n",
       "    </tr>\n",
       "    <tr>\n",
       "      <th>2</th>\n",
       "      <td>Премиум</td>\n",
       "      <td>12000</td>\n",
       "      <td>выбор стартов на сезон + планы</td>\n",
       "      <td>Не ограничено</td>\n",
       "      <td>1</td>\n",
       "      <td>безлимит</td>\n",
       "    </tr>\n",
       "  </tbody>\n",
       "</table>\n",
       "</div>"
      ],
      "text/plain": [
       "                tariff   cost                      start_plan   coach_connect  \\\n",
       "0  Подготовка к старту   6000             выбор старта + план  1 раз в неделю   \n",
       "1             Cтандарт   8000  выбор стартов на сезон + планы  1 раз в неделю   \n",
       "2              Премиум  12000  выбор стартов на сезон + планы   Не ограничено   \n",
       "\n",
       "   nutr_equip_help teh_video_help  \n",
       "0                1            нет  \n",
       "1                1     ежемесячно  \n",
       "2                1       безлимит  "
      ]
     },
     "execution_count": 64,
     "metadata": {},
     "output_type": "execute_result"
    }
   ],
   "source": [
    "tri_maxpace_first = pd.DataFrame({'tariff': ['Подготовка к старту', 'Cтандарт', 'Премиум'], \n",
    "                     'cost': [6000, 8000, 12000],\n",
    "                     'start_plan': ['выбор старта + план', 'выбор стартов на сезон + планы', 'выбор стартов на сезон + планы'], \n",
    "                     'coach_connect': ['1 раз в неделю', '1 раз в неделю', 'Не ограничено'],\n",
    "                     'nutr_equip_help': [1, 1, 1],\n",
    "                     'teh_video_help': ['нет', 'ежемесячно', 'безлимит']})\n",
    "tri_maxpace_first"
   ]
  },
  {
   "cell_type": "markdown",
   "id": "3b679e75",
   "metadata": {},
   "source": [
    "**Ironman 70.3, Ironman**"
   ]
  },
  {
   "cell_type": "code",
   "execution_count": 65,
   "id": "f4538004",
   "metadata": {},
   "outputs": [
    {
     "data": {
      "text/html": [
       "<div>\n",
       "<style scoped>\n",
       "    .dataframe tbody tr th:only-of-type {\n",
       "        vertical-align: middle;\n",
       "    }\n",
       "\n",
       "    .dataframe tbody tr th {\n",
       "        vertical-align: top;\n",
       "    }\n",
       "\n",
       "    .dataframe thead th {\n",
       "        text-align: right;\n",
       "    }\n",
       "</style>\n",
       "<table border=\"1\" class=\"dataframe\">\n",
       "  <thead>\n",
       "    <tr style=\"text-align: right;\">\n",
       "      <th></th>\n",
       "      <th>tariff</th>\n",
       "      <th>cost</th>\n",
       "      <th>start_plan</th>\n",
       "      <th>coach_connect</th>\n",
       "      <th>nutr_equip_help</th>\n",
       "      <th>teh_video_help</th>\n",
       "    </tr>\n",
       "  </thead>\n",
       "  <tbody>\n",
       "    <tr>\n",
       "      <th>0</th>\n",
       "      <td>Подготовка к старту</td>\n",
       "      <td>8000</td>\n",
       "      <td>выбор старта + план</td>\n",
       "      <td>1 раз в неделю</td>\n",
       "      <td>1</td>\n",
       "      <td>нет</td>\n",
       "    </tr>\n",
       "    <tr>\n",
       "      <th>1</th>\n",
       "      <td>Cтандарт</td>\n",
       "      <td>10000</td>\n",
       "      <td>выбор стартов на сезон + планы</td>\n",
       "      <td>1 раз в неделю</td>\n",
       "      <td>1</td>\n",
       "      <td>ежемесячно</td>\n",
       "    </tr>\n",
       "    <tr>\n",
       "      <th>2</th>\n",
       "      <td>Премиум</td>\n",
       "      <td>15000</td>\n",
       "      <td>выбор стартов на сезон + планы</td>\n",
       "      <td>Не ограничено</td>\n",
       "      <td>1</td>\n",
       "      <td>безлимит</td>\n",
       "    </tr>\n",
       "  </tbody>\n",
       "</table>\n",
       "</div>"
      ],
      "text/plain": [
       "                tariff   cost                      start_plan   coach_connect  \\\n",
       "0  Подготовка к старту   8000             выбор старта + план  1 раз в неделю   \n",
       "1             Cтандарт  10000  выбор стартов на сезон + планы  1 раз в неделю   \n",
       "2              Премиум  15000  выбор стартов на сезон + планы   Не ограничено   \n",
       "\n",
       "   nutr_equip_help teh_video_help  \n",
       "0                1            нет  \n",
       "1                1     ежемесячно  \n",
       "2                1       безлимит  "
      ]
     },
     "execution_count": 65,
     "metadata": {},
     "output_type": "execute_result"
    }
   ],
   "source": [
    "tri_maxpace_iron = pd.DataFrame({'tariff': ['Подготовка к старту', 'Cтандарт', 'Премиум'], \n",
    "                     'cost': [8000, 10000, 15000],\n",
    "                     'start_plan': ['выбор старта + план', 'выбор стартов на сезон + планы', 'выбор стартов на сезон + планы'], \n",
    "                     'coach_connect': ['1 раз в неделю', '1 раз в неделю', 'Не ограничено'],\n",
    "                     'nutr_equip_help': [1, 1, 1],\n",
    "                     'teh_video_help': ['нет', 'ежемесячно', 'безлимит']})\n",
    "tri_maxpace_iron"
   ]
  },
  {
   "cell_type": "markdown",
   "id": "7190bc17",
   "metadata": {},
   "source": [
    "**Особенности:**\n",
    "\n",
    "1. Бесплатный пробный период 2 недели: можно отказаться без объяснения причин\n",
    "2. Сборы"
   ]
  },
  {
   "cell_type": "markdown",
   "id": "7ce61a24",
   "metadata": {},
   "source": [
    "### 5. Ski Team Russia(https://skiteamrussia.ru) - Рязань"
   ]
  },
  {
   "cell_type": "markdown",
   "id": "09162efb",
   "metadata": {},
   "source": [
    "**Данные в таблице:**\n",
    "\n",
    "- tariff - название тарифа\n",
    "- cost - цена за месяц\n",
    "- equip_help - консультация по выбору экипировки\n",
    "- teh_video_help - видеоанализ техники движений\n",
    "- start_plan -  выбор старта и план на гонку"
   ]
  },
  {
   "cell_type": "code",
   "execution_count": 67,
   "id": "31248008",
   "metadata": {},
   "outputs": [
    {
     "data": {
      "text/html": [
       "<div>\n",
       "<style scoped>\n",
       "    .dataframe tbody tr th:only-of-type {\n",
       "        vertical-align: middle;\n",
       "    }\n",
       "\n",
       "    .dataframe tbody tr th {\n",
       "        vertical-align: top;\n",
       "    }\n",
       "\n",
       "    .dataframe thead th {\n",
       "        text-align: right;\n",
       "    }\n",
       "</style>\n",
       "<table border=\"1\" class=\"dataframe\">\n",
       "  <thead>\n",
       "    <tr style=\"text-align: right;\">\n",
       "      <th></th>\n",
       "      <th>tariff</th>\n",
       "      <th>cost</th>\n",
       "      <th>equip_help</th>\n",
       "      <th>teh_video_help</th>\n",
       "      <th>start_plan</th>\n",
       "    </tr>\n",
       "  </thead>\n",
       "  <tbody>\n",
       "    <tr>\n",
       "      <th>0</th>\n",
       "      <td>General version</td>\n",
       "      <td>бесплатно</td>\n",
       "      <td>1</td>\n",
       "      <td>0</td>\n",
       "      <td>0</td>\n",
       "    </tr>\n",
       "    <tr>\n",
       "      <th>1</th>\n",
       "      <td>Base version</td>\n",
       "      <td>3990</td>\n",
       "      <td>1</td>\n",
       "      <td>0</td>\n",
       "      <td>0</td>\n",
       "    </tr>\n",
       "    <tr>\n",
       "      <th>2</th>\n",
       "      <td>Base version 2.0</td>\n",
       "      <td>5990</td>\n",
       "      <td>1</td>\n",
       "      <td>1</td>\n",
       "      <td>0</td>\n",
       "    </tr>\n",
       "    <tr>\n",
       "      <th>3</th>\n",
       "      <td>PRO version</td>\n",
       "      <td>9990</td>\n",
       "      <td>1</td>\n",
       "      <td>1</td>\n",
       "      <td>1</td>\n",
       "    </tr>\n",
       "  </tbody>\n",
       "</table>\n",
       "</div>"
      ],
      "text/plain": [
       "             tariff       cost  equip_help  teh_video_help  start_plan\n",
       "0   General version  бесплатно           1               0           0\n",
       "1      Base version       3990           1               0           0\n",
       "2  Base version 2.0       5990           1               1           0\n",
       "3       PRO version       9990           1               1           1"
      ]
     },
     "execution_count": 67,
     "metadata": {},
     "output_type": "execute_result"
    }
   ],
   "source": [
    "tri_skiteam = pd.DataFrame({'tariff': ['General version', 'Base version', 'Base version 2.0', 'PRO version'], \n",
    "                     'cost': ['бесплатно',  '3990', '5990', '9990'],\n",
    "                     'equip_help': [1, 1, 1, 1], \n",
    "                     'teh_video_help': [0, 0, 1, 1],\n",
    "                     'start_plan': [0, 0, 0, 1]})\n",
    "tri_skiteam"
   ]
  },
  {
   "cell_type": "markdown",
   "id": "bab3709f",
   "metadata": {},
   "source": [
    "**Особенности:**\n",
    "\n",
    "1. Скидки при оплате от 3 месяцев\n",
    "2. Очные тренировки (Рязань)"
   ]
  },
  {
   "cell_type": "markdown",
   "id": "9971cfe3",
   "metadata": {},
   "source": [
    " ### 6.  Born For Ironman (https://born4swim.ru/triathlon/in-team)"
   ]
  },
  {
   "cell_type": "code",
   "execution_count": 70,
   "id": "e11e4aa3",
   "metadata": {},
   "outputs": [
    {
     "data": {
      "text/html": [
       "<div>\n",
       "<style scoped>\n",
       "    .dataframe tbody tr th:only-of-type {\n",
       "        vertical-align: middle;\n",
       "    }\n",
       "\n",
       "    .dataframe tbody tr th {\n",
       "        vertical-align: top;\n",
       "    }\n",
       "\n",
       "    .dataframe thead th {\n",
       "        text-align: right;\n",
       "    }\n",
       "</style>\n",
       "<table border=\"1\" class=\"dataframe\">\n",
       "  <thead>\n",
       "    <tr style=\"text-align: right;\">\n",
       "      <th></th>\n",
       "      <th>tariff</th>\n",
       "      <th>cost_per_month</th>\n",
       "      <th>offline_train</th>\n",
       "    </tr>\n",
       "  </thead>\n",
       "  <tbody>\n",
       "    <tr>\n",
       "      <th>0</th>\n",
       "      <td>В команде</td>\n",
       "      <td>14000</td>\n",
       "      <td>2/неделя</td>\n",
       "    </tr>\n",
       "    <tr>\n",
       "      <th>1</th>\n",
       "      <td>online</td>\n",
       "      <td>5000</td>\n",
       "      <td>0</td>\n",
       "    </tr>\n",
       "    <tr>\n",
       "      <th>2</th>\n",
       "      <td>MIX</td>\n",
       "      <td>25000</td>\n",
       "      <td>2 индивидуальные</td>\n",
       "    </tr>\n",
       "  </tbody>\n",
       "</table>\n",
       "</div>"
      ],
      "text/plain": [
       "      tariff  cost_per_month     offline_train\n",
       "0  В команде           14000          2/неделя\n",
       "1     online            5000                 0\n",
       "2        MIX           25000  2 индивидуальные"
      ]
     },
     "execution_count": 70,
     "metadata": {},
     "output_type": "execute_result"
    }
   ],
   "source": [
    "tri_born = pd.DataFrame({'tariff': ['В команде', 'online', 'MIX'], \n",
    "                     'cost_per_month': [14000, 5000, 25000],\n",
    "                     'offline_train': ['2/неделя', '0', '2 индивидуальные']})\n",
    "tri_born "
   ]
  },
  {
   "cell_type": "markdown",
   "id": "5fadf985",
   "metadata": {},
   "source": [
    " ### 7. Runners (http://runschool.ru/triatlon/) Москва, Новосибирск, Томск"
   ]
  },
  {
   "cell_type": "markdown",
   "id": "c5ad2cc6",
   "metadata": {},
   "source": [
    "- 8000/месяц\n",
    "- Индивидуальный план тренировок \n",
    "- Рекомендации по экипировке и питанию\n",
    "- Анализ видеоматериалов техники бега\n",
    "- Персональный план на старт"
   ]
  },
  {
   "cell_type": "markdown",
   "id": "4a4e18b3",
   "metadata": {},
   "source": [
    " ### 8. Outdoor School Run (https://outdoorrun.ru/triathlon) Санкт-Петербург"
   ]
  },
  {
   "cell_type": "markdown",
   "id": "5d3a08fe",
   "metadata": {},
   "source": [
    "- Цена «Основа курса» 6000/месяц, плюс: тренировка на суше 1500/занятие, тренировка в бассейне 1800 руб/занятие\n",
    "- 4-недельные циклы специальной направленности\n",
    "- Контрольные старты по каждому из видов спорта"
   ]
  },
  {
   "cell_type": "markdown",
   "id": "7e3e458e",
   "metadata": {},
   "source": [
    "### Вывод:\n",
    "\n",
    "1. Большинство школ триатлона ориентированы на online-ведение. \n",
    "2. Большинство школ имеют свои индивидуальные разделения на уровни подготовки.\n",
    "3. Средняя стоимость за максимальный пакет услуг в Москве - около 21000/месяц"
   ]
  },
  {
   "cell_type": "markdown",
   "id": "5d6298dd",
   "metadata": {},
   "source": [
    "## Школы велоспорта"
   ]
  },
  {
   "cell_type": "markdown",
   "id": "80aedabb",
   "metadata": {},
   "source": [
    " ### 1. Трилайф велосекция для взрослых (https://www.trilife.ru/news/velosektsiya-trilayf/?ysclid=l6lysdobs9347017241)\n",
    " \n",
    " \n",
    "- Единая комплексная тренировочная программа, включающая, кроме тренировок по велоспорту, ОФП, растяжку и рекомендации по питанию, контролю функционального состояния организма\n",
    "- Стоимость тренировок (велотрек): \n",
    "   - Разовая тренировка - пн-пт,вс\n",
    "   - Абонемент на неделю - неограниченное кол-во тренировок по расписанию\n",
    "   - Абонемент на 4 недели - включены все тренировки по расписанию, составление индивидуального тренировочного плана, тестирование на велоэргометре с газоанализатором"
   ]
  },
  {
   "cell_type": "code",
   "execution_count": 78,
   "id": "0e8ca038",
   "metadata": {},
   "outputs": [
    {
     "data": {
      "text/html": [
       "<div>\n",
       "<style scoped>\n",
       "    .dataframe tbody tr th:only-of-type {\n",
       "        vertical-align: middle;\n",
       "    }\n",
       "\n",
       "    .dataframe tbody tr th {\n",
       "        vertical-align: top;\n",
       "    }\n",
       "\n",
       "    .dataframe thead th {\n",
       "        text-align: right;\n",
       "    }\n",
       "</style>\n",
       "<table border=\"1\" class=\"dataframe\">\n",
       "  <thead>\n",
       "    <tr style=\"text-align: right;\">\n",
       "      <th></th>\n",
       "      <th>tariff</th>\n",
       "      <th>cost</th>\n",
       "    </tr>\n",
       "  </thead>\n",
       "  <tbody>\n",
       "    <tr>\n",
       "      <th>0</th>\n",
       "      <td>Разовая тренировка</td>\n",
       "      <td>1000</td>\n",
       "    </tr>\n",
       "    <tr>\n",
       "      <th>1</th>\n",
       "      <td>Абонемент на неделю</td>\n",
       "      <td>4000</td>\n",
       "    </tr>\n",
       "    <tr>\n",
       "      <th>2</th>\n",
       "      <td>Абонемент на 4 недели</td>\n",
       "      <td>16000</td>\n",
       "    </tr>\n",
       "  </tbody>\n",
       "</table>\n",
       "</div>"
      ],
      "text/plain": [
       "                  tariff   cost\n",
       "0     Разовая тренировка   1000\n",
       "1    Абонемент на неделю   4000\n",
       "2  Абонемент на 4 недели  16000"
      ]
     },
     "execution_count": 78,
     "metadata": {},
     "output_type": "execute_result"
    }
   ],
   "source": [
    "trilife = pd.DataFrame({'tariff': ['Разовая тренировка', 'Абонемент на неделю', 'Абонемент на 4 недели'], \n",
    "                     'cost': [1000, 4000, 16000]})\n",
    "trilife"
   ]
  },
  {
   "cell_type": "markdown",
   "id": "a18ce4db",
   "metadata": {},
   "source": [
    " ### 2. VeloStar (https://velostar-training.ru)"
   ]
  },
  {
   "cell_type": "code",
   "execution_count": 72,
   "id": "a1d63372",
   "metadata": {},
   "outputs": [
    {
     "data": {
      "text/html": [
       "<div>\n",
       "<style scoped>\n",
       "    .dataframe tbody tr th:only-of-type {\n",
       "        vertical-align: middle;\n",
       "    }\n",
       "\n",
       "    .dataframe tbody tr th {\n",
       "        vertical-align: top;\n",
       "    }\n",
       "\n",
       "    .dataframe thead th {\n",
       "        text-align: right;\n",
       "    }\n",
       "</style>\n",
       "<table border=\"1\" class=\"dataframe\">\n",
       "  <thead>\n",
       "    <tr style=\"text-align: right;\">\n",
       "      <th></th>\n",
       "      <th>tariff</th>\n",
       "      <th>cost</th>\n",
       "    </tr>\n",
       "  </thead>\n",
       "  <tbody>\n",
       "    <tr>\n",
       "      <th>0</th>\n",
       "      <td>Индивидуал на шоссе</td>\n",
       "      <td>2200</td>\n",
       "    </tr>\n",
       "    <tr>\n",
       "      <th>1</th>\n",
       "      <td>Индивидуал на велотреке</td>\n",
       "      <td>3500</td>\n",
       "    </tr>\n",
       "    <tr>\n",
       "      <th>2</th>\n",
       "      <td>Индивидуальный план</td>\n",
       "      <td>5000</td>\n",
       "    </tr>\n",
       "    <tr>\n",
       "      <th>3</th>\n",
       "      <td>Индивидуал на watt bike</td>\n",
       "      <td>2200</td>\n",
       "    </tr>\n",
       "    <tr>\n",
       "      <th>4</th>\n",
       "      <td>Группа на шоссе</td>\n",
       "      <td>1000</td>\n",
       "    </tr>\n",
       "    <tr>\n",
       "      <th>5</th>\n",
       "      <td>Группа на велотреке</td>\n",
       "      <td>1800</td>\n",
       "    </tr>\n",
       "  </tbody>\n",
       "</table>\n",
       "</div>"
      ],
      "text/plain": [
       "                    tariff  cost\n",
       "0      Индивидуал на шоссе  2200\n",
       "1  Индивидуал на велотреке  3500\n",
       "2      Индивидуальный план  5000\n",
       "3  Индивидуал на watt bike  2200\n",
       "4          Группа на шоссе  1000\n",
       "5      Группа на велотреке  1800"
      ]
     },
     "execution_count": 72,
     "metadata": {},
     "output_type": "execute_result"
    }
   ],
   "source": [
    "velostar = pd.DataFrame({'tariff': ['Индивидуал на шоссе', 'Индивидуал на велотреке', 'Индивидуальный план', 'Индивидуал на watt bike' , 'Группа на шоссе', 'Группа на велотреке'], \n",
    "                     'cost': [2200, 3500, 5000, 2200, 1000, 1800]})\n",
    "velostar"
   ]
  },
  {
   "cell_type": "markdown",
   "id": "55d3315e",
   "metadata": {},
   "source": [
    " ### 3. Велошкола МСК (https://mos-sportclub.ru)"
   ]
  },
  {
   "cell_type": "code",
   "execution_count": 74,
   "id": "b9a5b3ca",
   "metadata": {},
   "outputs": [
    {
     "data": {
      "text/html": [
       "<div>\n",
       "<style scoped>\n",
       "    .dataframe tbody tr th:only-of-type {\n",
       "        vertical-align: middle;\n",
       "    }\n",
       "\n",
       "    .dataframe tbody tr th {\n",
       "        vertical-align: top;\n",
       "    }\n",
       "\n",
       "    .dataframe thead th {\n",
       "        text-align: right;\n",
       "    }\n",
       "</style>\n",
       "<table border=\"1\" class=\"dataframe\">\n",
       "  <thead>\n",
       "    <tr style=\"text-align: right;\">\n",
       "      <th></th>\n",
       "      <th>tariff</th>\n",
       "      <th>cost</th>\n",
       "    </tr>\n",
       "  </thead>\n",
       "  <tbody>\n",
       "    <tr>\n",
       "      <th>0</th>\n",
       "      <td>Разовая тренировка</td>\n",
       "      <td>2500</td>\n",
       "    </tr>\n",
       "    <tr>\n",
       "      <th>1</th>\n",
       "      <td>4 занятия</td>\n",
       "      <td>8000</td>\n",
       "    </tr>\n",
       "    <tr>\n",
       "      <th>2</th>\n",
       "      <td>8 занятий</td>\n",
       "      <td>14500</td>\n",
       "    </tr>\n",
       "    <tr>\n",
       "      <th>3</th>\n",
       "      <td>12 занятий</td>\n",
       "      <td>19500</td>\n",
       "    </tr>\n",
       "    <tr>\n",
       "      <th>4</th>\n",
       "      <td>Персональная тренировка</td>\n",
       "      <td>5000</td>\n",
       "    </tr>\n",
       "  </tbody>\n",
       "</table>\n",
       "</div>"
      ],
      "text/plain": [
       "                    tariff   cost\n",
       "0       Разовая тренировка   2500\n",
       "1                4 занятия   8000\n",
       "2                8 занятий  14500\n",
       "3               12 занятий  19500\n",
       "4  Персональная тренировка   5000"
      ]
     },
     "execution_count": 74,
     "metadata": {},
     "output_type": "execute_result"
    }
   ],
   "source": [
    "veloschool = pd.DataFrame({'tariff': ['Разовая тренировка', '4 занятия' , '8 занятий', '12 занятий', 'Персональная тренировка'], \n",
    "                     'cost': [2500, 8000, 14500, 19500, 5000]})\n",
    "\n",
    "veloschool"
   ]
  },
  {
   "cell_type": "markdown",
   "id": "263b8b62",
   "metadata": {},
   "source": [
    " ### 4. Devi Club (https://mydeviclub.ru/cycling)"
   ]
  },
  {
   "cell_type": "code",
   "execution_count": 87,
   "id": "f22f604d",
   "metadata": {},
   "outputs": [
    {
     "data": {
      "text/html": [
       "<div>\n",
       "<style scoped>\n",
       "    .dataframe tbody tr th:only-of-type {\n",
       "        vertical-align: middle;\n",
       "    }\n",
       "\n",
       "    .dataframe tbody tr th {\n",
       "        vertical-align: top;\n",
       "    }\n",
       "\n",
       "    .dataframe thead th {\n",
       "        text-align: right;\n",
       "    }\n",
       "</style>\n",
       "<table border=\"1\" class=\"dataframe\">\n",
       "  <thead>\n",
       "    <tr style=\"text-align: right;\">\n",
       "      <th></th>\n",
       "      <th>tariff</th>\n",
       "      <th>cost</th>\n",
       "    </tr>\n",
       "  </thead>\n",
       "  <tbody>\n",
       "    <tr>\n",
       "      <th>0</th>\n",
       "      <td>Индивидуальная тренировка</td>\n",
       "      <td>3800</td>\n",
       "    </tr>\n",
       "    <tr>\n",
       "      <th>1</th>\n",
       "      <td>Парная тренировка</td>\n",
       "      <td>5000</td>\n",
       "    </tr>\n",
       "    <tr>\n",
       "      <th>2</th>\n",
       "      <td>Групповая тренировка</td>\n",
       "      <td>1600</td>\n",
       "    </tr>\n",
       "    <tr>\n",
       "      <th>3</th>\n",
       "      <td>10 групповых тренировок</td>\n",
       "      <td>10000</td>\n",
       "    </tr>\n",
       "  </tbody>\n",
       "</table>\n",
       "</div>"
      ],
      "text/plain": [
       "                      tariff   cost\n",
       "0  Индивидуальная тренировка   3800\n",
       "1          Парная тренировка   5000\n",
       "2       Групповая тренировка   1600\n",
       "3    10 групповых тренировок  10000"
      ]
     },
     "execution_count": 87,
     "metadata": {},
     "output_type": "execute_result"
    }
   ],
   "source": [
    "deviclub = pd.DataFrame({'tariff': ['Индивидуальная тренировка', 'Парная тренировка' , 'Групповая тренировка', '10 групповых тренировок'], \n",
    "                     'cost': [3800, 5000, 1600, 10000]})\n",
    "\n",
    "deviclub"
   ]
  },
  {
   "cell_type": "markdown",
   "id": "8dd6084e",
   "metadata": {},
   "source": [
    " ### 5. Serpantin (https://serpantin-shop.ru)"
   ]
  },
  {
   "cell_type": "code",
   "execution_count": 88,
   "id": "bc2b33b5",
   "metadata": {},
   "outputs": [
    {
     "data": {
      "text/html": [
       "<div>\n",
       "<style scoped>\n",
       "    .dataframe tbody tr th:only-of-type {\n",
       "        vertical-align: middle;\n",
       "    }\n",
       "\n",
       "    .dataframe tbody tr th {\n",
       "        vertical-align: top;\n",
       "    }\n",
       "\n",
       "    .dataframe thead th {\n",
       "        text-align: right;\n",
       "    }\n",
       "</style>\n",
       "<table border=\"1\" class=\"dataframe\">\n",
       "  <thead>\n",
       "    <tr style=\"text-align: right;\">\n",
       "      <th></th>\n",
       "      <th>tariff</th>\n",
       "      <th>cost</th>\n",
       "    </tr>\n",
       "  </thead>\n",
       "  <tbody>\n",
       "    <tr>\n",
       "      <th>0</th>\n",
       "      <td>Первая персональная тренировка</td>\n",
       "      <td>1990</td>\n",
       "    </tr>\n",
       "    <tr>\n",
       "      <th>1</th>\n",
       "      <td>Персональная тренировка</td>\n",
       "      <td>5000</td>\n",
       "    </tr>\n",
       "    <tr>\n",
       "      <th>2</th>\n",
       "      <td>Групповая тренировка по расписанию</td>\n",
       "      <td>3000</td>\n",
       "    </tr>\n",
       "    <tr>\n",
       "      <th>3</th>\n",
       "      <td>Групповая тренировка по договорённости</td>\n",
       "      <td>4000</td>\n",
       "    </tr>\n",
       "    <tr>\n",
       "      <th>4</th>\n",
       "      <td>Клубный абонемент на месяц</td>\n",
       "      <td>18900</td>\n",
       "    </tr>\n",
       "  </tbody>\n",
       "</table>\n",
       "</div>"
      ],
      "text/plain": [
       "                                   tariff   cost\n",
       "0          Первая персональная тренировка   1990\n",
       "1                 Персональная тренировка   5000\n",
       "2      Групповая тренировка по расписанию   3000\n",
       "3  Групповая тренировка по договорённости   4000\n",
       "4              Клубный абонемент на месяц  18900"
      ]
     },
     "execution_count": 88,
     "metadata": {},
     "output_type": "execute_result"
    }
   ],
   "source": [
    "serpantin = pd.DataFrame({'tariff': ['Первая персональная тренировка', 'Персональная тренировка' , 'Групповая тренировка по расписанию', 'Групповая тренировка по договорённости', 'Клубный абонемент на месяц', ], \n",
    "                     'cost': [1990, 5000, 3000, 4000, 18900]})\n",
    "\n",
    "serpantin "
   ]
  },
  {
   "cell_type": "markdown",
   "id": "85e01d0f",
   "metadata": {},
   "source": [
    " ### 6. Zubov Team \n",
    " \n",
    " Стоимость 1 занятия - 3000"
   ]
  },
  {
   "cell_type": "markdown",
   "id": "714561b5",
   "metadata": {},
   "source": [
    "### Описание групп\n",
    "\n",
    "**1. Техник**\n",
    "- Разбор сложных технических моментов\n",
    "- Обучение профессиональным приёмам владения велосипедом \n",
    "\n",
    "**2. Погружение**\n",
    "- Плавное погружение начинающего спортсмена в тренировочный процесс\n",
    "- Обучение с азов до уверенного владения велосипедом\n",
    "\n",
    "**3. Level Up**\n",
    "- После \"Погружения\"\n",
    "- Подготовка перед \"Прогрессом\"\n",
    "\n",
    "**4. Прогресс**\n",
    "- Оттачивание навыков владения велосипедом\n",
    "- Групповое скатывание\n",
    "- Подготовка к соревнованиям\n",
    "- Разбор спортивной тактики\n",
    "- Разбор питания на дистанции\n",
    "\n",
    "**5. Группа N1**\n",
    "- Процессиональная работа на достижение поставленной цели\n",
    "- Поддержание высокой формы\n",
    "- Разбор и адаптивное применение методов борьбы с соперниками на дистанции\n",
    "\n",
    "**6. Субботняя(3000)/воскресная(2000) тренировка**\n",
    "- Закладывание большого объёма километража"
   ]
  },
  {
   "cell_type": "markdown",
   "id": "76df4995",
   "metadata": {},
   "source": [
    "**Без командной формы:**"
   ]
  },
  {
   "cell_type": "code",
   "execution_count": 89,
   "id": "fe62d266",
   "metadata": {},
   "outputs": [
    {
     "data": {
      "text/html": [
       "<div>\n",
       "<style scoped>\n",
       "    .dataframe tbody tr th:only-of-type {\n",
       "        vertical-align: middle;\n",
       "    }\n",
       "\n",
       "    .dataframe tbody tr th {\n",
       "        vertical-align: top;\n",
       "    }\n",
       "\n",
       "    .dataframe thead th {\n",
       "        text-align: right;\n",
       "    }\n",
       "</style>\n",
       "<table border=\"1\" class=\"dataframe\">\n",
       "  <thead>\n",
       "    <tr style=\"text-align: right;\">\n",
       "      <th></th>\n",
       "      <th>tariff</th>\n",
       "      <th>cost</th>\n",
       "    </tr>\n",
       "  </thead>\n",
       "  <tbody>\n",
       "    <tr>\n",
       "      <th>0</th>\n",
       "      <td>Групповой безлимит</td>\n",
       "      <td>35000</td>\n",
       "    </tr>\n",
       "    <tr>\n",
       "      <th>1</th>\n",
       "      <td>техник</td>\n",
       "      <td>9000</td>\n",
       "    </tr>\n",
       "    <tr>\n",
       "      <th>2</th>\n",
       "      <td>погружение</td>\n",
       "      <td>13000</td>\n",
       "    </tr>\n",
       "    <tr>\n",
       "      <th>3</th>\n",
       "      <td>Level Up</td>\n",
       "      <td>13000</td>\n",
       "    </tr>\n",
       "    <tr>\n",
       "      <th>4</th>\n",
       "      <td>Прогресс/Группа N1 (3/нед)</td>\n",
       "      <td>17000</td>\n",
       "    </tr>\n",
       "    <tr>\n",
       "      <th>5</th>\n",
       "      <td>Прогресс/Группа N1 (2/нед)</td>\n",
       "      <td>15000</td>\n",
       "    </tr>\n",
       "  </tbody>\n",
       "</table>\n",
       "</div>"
      ],
      "text/plain": [
       "                       tariff   cost\n",
       "0          Групповой безлимит  35000\n",
       "1                      техник   9000\n",
       "2                  погружение  13000\n",
       "3                    Level Up  13000\n",
       "4  Прогресс/Группа N1 (3/нед)  17000\n",
       "5  Прогресс/Группа N1 (2/нед)  15000"
      ]
     },
     "execution_count": 89,
     "metadata": {},
     "output_type": "execute_result"
    }
   ],
   "source": [
    "zubov_team = pd.DataFrame({'tariff': ['Групповой безлимит', 'техник' , 'погружение', ' Level Up', 'Прогресс/Группа N1 (3/нед)', 'Прогресс/Группа N1 (2/нед)' ], \n",
    "                     'cost': [35000, 9000, 13000, 13000, 17000, 15000]})\n",
    "\n",
    "zubov_team "
   ]
  },
  {
   "cell_type": "markdown",
   "id": "cc75d01d",
   "metadata": {},
   "source": [
    "**С командной формой:**"
   ]
  },
  {
   "cell_type": "code",
   "execution_count": 90,
   "id": "f39bc030",
   "metadata": {},
   "outputs": [
    {
     "data": {
      "text/html": [
       "<div>\n",
       "<style scoped>\n",
       "    .dataframe tbody tr th:only-of-type {\n",
       "        vertical-align: middle;\n",
       "    }\n",
       "\n",
       "    .dataframe tbody tr th {\n",
       "        vertical-align: top;\n",
       "    }\n",
       "\n",
       "    .dataframe thead th {\n",
       "        text-align: right;\n",
       "    }\n",
       "</style>\n",
       "<table border=\"1\" class=\"dataframe\">\n",
       "  <thead>\n",
       "    <tr style=\"text-align: right;\">\n",
       "      <th></th>\n",
       "      <th>tariff</th>\n",
       "      <th>cost</th>\n",
       "    </tr>\n",
       "  </thead>\n",
       "  <tbody>\n",
       "    <tr>\n",
       "      <th>0</th>\n",
       "      <td>Групповой безлимит</td>\n",
       "      <td>30000</td>\n",
       "    </tr>\n",
       "    <tr>\n",
       "      <th>1</th>\n",
       "      <td>техник</td>\n",
       "      <td>8000</td>\n",
       "    </tr>\n",
       "    <tr>\n",
       "      <th>2</th>\n",
       "      <td>погружение</td>\n",
       "      <td>10000</td>\n",
       "    </tr>\n",
       "    <tr>\n",
       "      <th>3</th>\n",
       "      <td>Level Up</td>\n",
       "      <td>10000</td>\n",
       "    </tr>\n",
       "    <tr>\n",
       "      <th>4</th>\n",
       "      <td>Прогресс/Группа N1 (3/нед)</td>\n",
       "      <td>13000</td>\n",
       "    </tr>\n",
       "    <tr>\n",
       "      <th>5</th>\n",
       "      <td>Прогресс/Группа N1 (2/нед)</td>\n",
       "      <td>12000</td>\n",
       "    </tr>\n",
       "  </tbody>\n",
       "</table>\n",
       "</div>"
      ],
      "text/plain": [
       "                       tariff   cost\n",
       "0          Групповой безлимит  30000\n",
       "1                      техник   8000\n",
       "2                  погружение  10000\n",
       "3                    Level Up  10000\n",
       "4  Прогресс/Группа N1 (3/нед)  13000\n",
       "5  Прогресс/Группа N1 (2/нед)  12000"
      ]
     },
     "execution_count": 90,
     "metadata": {},
     "output_type": "execute_result"
    }
   ],
   "source": [
    "zubov_team_form = pd.DataFrame({'tariff': ['Групповой безлимит', 'техник' , 'погружение', ' Level Up', 'Прогресс/Группа N1 (3/нед)', 'Прогресс/Группа N1 (2/нед)' ], \n",
    "                     'cost': [30000, 8000, 10000, 10000, 13000, 12000]})\n",
    "\n",
    "zubov_team_form"
   ]
  },
  {
   "cell_type": "markdown",
   "id": "14b9f29b",
   "metadata": {},
   "source": [
    " ### 7. LEGION CYCLING CLUB (https://www.legioncycling.com)"
   ]
  },
  {
   "cell_type": "code",
   "execution_count": 91,
   "id": "d2e82e0c",
   "metadata": {},
   "outputs": [
    {
     "data": {
      "text/html": [
       "<div>\n",
       "<style scoped>\n",
       "    .dataframe tbody tr th:only-of-type {\n",
       "        vertical-align: middle;\n",
       "    }\n",
       "\n",
       "    .dataframe tbody tr th {\n",
       "        vertical-align: top;\n",
       "    }\n",
       "\n",
       "    .dataframe thead th {\n",
       "        text-align: right;\n",
       "    }\n",
       "</style>\n",
       "<table border=\"1\" class=\"dataframe\">\n",
       "  <thead>\n",
       "    <tr style=\"text-align: right;\">\n",
       "      <th></th>\n",
       "      <th>tariff</th>\n",
       "      <th>cost</th>\n",
       "    </tr>\n",
       "  </thead>\n",
       "  <tbody>\n",
       "    <tr>\n",
       "      <th>0</th>\n",
       "      <td>Индивидуальная тренировка</td>\n",
       "      <td>3500-5000</td>\n",
       "    </tr>\n",
       "    <tr>\n",
       "      <th>1</th>\n",
       "      <td>Групповая тренировка</td>\n",
       "      <td>2500</td>\n",
       "    </tr>\n",
       "    <tr>\n",
       "      <th>2</th>\n",
       "      <td>Групповые тренировки PRO (20 раз/месяц)</td>\n",
       "      <td>27000</td>\n",
       "    </tr>\n",
       "    <tr>\n",
       "      <th>3</th>\n",
       "      <td>Групповая тренировка (начинающие)</td>\n",
       "      <td>2500</td>\n",
       "    </tr>\n",
       "    <tr>\n",
       "      <th>4</th>\n",
       "      <td>Групповые тренировки (начинающие) 12 раз/месяц</td>\n",
       "      <td>17000</td>\n",
       "    </tr>\n",
       "  </tbody>\n",
       "</table>\n",
       "</div>"
      ],
      "text/plain": [
       "                                           tariff       cost\n",
       "0                       Индивидуальная тренировка  3500-5000\n",
       "1                            Групповая тренировка       2500\n",
       "2         Групповые тренировки PRO (20 раз/месяц)      27000\n",
       "3               Групповая тренировка (начинающие)       2500\n",
       "4  Групповые тренировки (начинающие) 12 раз/месяц      17000"
      ]
     },
     "execution_count": 91,
     "metadata": {},
     "output_type": "execute_result"
    }
   ],
   "source": [
    "legion = pd.DataFrame({'tariff': ['Индивидуальная тренировка', 'Групповая тренировка' , 'Групповые тренировки PRO (20 раз/месяц)', 'Групповая тренировка (начинающие)', 'Групповые тренировки (начинающие) 12 раз/месяц' ], \n",
    "                     'cost': ['3500-5000', 2500, 27000, 2500, 17000]})\n",
    "\n",
    "legion"
   ]
  },
  {
   "cell_type": "markdown",
   "id": "c84230f6",
   "metadata": {},
   "source": [
    "**Особенности:**\n",
    "\n",
    "1. Группа трек\n",
    "\n",
    "В этой группе будет уделено большое внимание технической (базовой) части для уверенной езды на трековом велосипеде, после прохождения цикла технических тренировок группа постепенно будет переходить на умеренную нагрузку подходящую по возрасту для тренировок и участия в соревнованиях.\n",
    "\n",
    "2. Велосборы в Сочи"
   ]
  },
  {
   "cell_type": "markdown",
   "id": "f486fac8",
   "metadata": {},
   "source": [
    " ### 8. RUSSIAN CYCLING ACADEMY (RCA)\n",
    " \n",
    " http://cyclingacademy.ru\n",
    " /сайт не работает/"
   ]
  }
 ],
 "metadata": {
  "kernelspec": {
   "display_name": "Python 3",
   "language": "python",
   "name": "python3"
  },
  "language_info": {
   "codemirror_mode": {
    "name": "ipython",
    "version": 3
   },
   "file_extension": ".py",
   "mimetype": "text/x-python",
   "name": "python",
   "nbconvert_exporter": "python",
   "pygments_lexer": "ipython3",
   "version": "3.8.8"
  }
 },
 "nbformat": 4,
 "nbformat_minor": 5
}
