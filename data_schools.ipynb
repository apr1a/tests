{
 "cells": [
  {
   "cell_type": "markdown",
   "id": "4ba5b49f",
   "metadata": {},
   "source": [
    "# Исследование рынка/конкурентов"
   ]
  },
  {
   "cell_type": "markdown",
   "id": "8f440269",
   "metadata": {},
   "source": [
    "### Беговые школы\n",
    "\n",
    "Собираем данные по крупным школам бега\n",
    "\n",
    "Описание данных:\n",
    "- club_name - название школы\n",
    "- city_location - город расположения\n",
    "- test_train - наличие пробной тренировки\n",
    "- personal_train - наличие услуги персональных тренировок\n",
    "- pass_duration - длительность абонемента (количество занятий)\n",
    "- pass_cost - стоимость абонемента\n",
    "- start_pack - наличие стартового пакета\n",
    "- levels - наличие разделения на уровни\n",
    "- medical_support - медицинские консультации\n",
    "- corporate_team - наличие услуг для корпоративных команд"
   ]
  },
  {
   "cell_type": "code",
   "execution_count": null,
   "id": "104642cb",
   "metadata": {},
   "outputs": [],
   "source": [
    "import pandas as pd\n",
    "import matplotlib as plt\n",
    "import seaborn as sns"
   ]
  },
  {
   "cell_type": "code",
   "execution_count": 122,
   "id": "c3a3839e",
   "metadata": {},
   "outputs": [],
   "source": [
    "data = pd.DataFrame({'club_name': ['Академия Марафона', 'Run Faq', 'Run-Studio', 'RUNLABCLUB', 'Adidas Runners', 'PRO бег', 'Run Or Die', 'Gepard', 'Jaxtor', 'Типичный марафонец', 'ProRunning', 'Второе Дыхание', 'Stride', 'Running Expert', 'Pirahna Running Club'], \n",
    "                     'city_location': ['Москва', 'Москва', 'Москва', 'Москва', 'Москва', 'Санкт-Петербург', 'Москва', 'Москва', 'Москва', 'Санкт-Петербург', 'Санкт-Петербург', 'Санкт-Петербург', 'Москва', 'Москва', 'Москва' ], \n",
    "                     'test_train': [1, 0, 0, 1, 1, 0, 0, 0, 1, 1, 1, 0, 0, 1, 0], \n",
    "                     'personal_train': [0, 1, 1, 0, 1, 1, 1, 1, 0, 1, 1, 1, 0, 1, 0], \n",
    "                     'pass_duration': [8, 8, 8, 8, 8, 8, 8, 8, 8, 8, 8, 8, 8, 8, 8],\n",
    "                     'pass_cost': [12000, 9990, 8000, 9990, 7999, 6000, 10000, 8000, 7000, 7500, 8500, 5000, 9990, 9200, 5000 ],\n",
    "                     'start_pack': [1, 0, 0, 1, 0, 0, 0, 0, 0, 0, 0, 0, 0, 0, 0],\n",
    "                     'levels': [0, 0, 1, 0, 0, 0, 0, 0, 0, 0, 1, 1, 1, 0, 0],\n",
    "                     'medical_support': [0, 0, 0, 0, 0, 0, 0, 0, 0, 0, 1, 1, 0, 0, 0],\n",
    "                     'corporate_team': [1, 0, 1, 1, 0, 0, 1, 1, 1, 0, 0, 1, 0, 0, 0],\n",
    "                     'website': ['https://academymarathon.ru', 'https://runfaq.ru', 'https://run-studio.com', \n",
    "                               'http://runlabclub.ru', 'https://services.adidas.ru',\n",
    "                               'https://probeg-project.ru', 'https://runordie.ru',\n",
    "                               'http://marathonclubgepard.ru', 'https://jaxtor.ru',\n",
    "                               'http://tprun.ru', 'http://prorunning.ru',\n",
    "                               'https://vk.com/vdrunclub', 'https://striderunning.ru/striderunningclub2142',\n",
    "                                'https://runningexpert.ru', 'https://piranharunning.com']})"
   ]
  },
  {
   "cell_type": "code",
   "execution_count": 123,
   "id": "0a8b2dff",
   "metadata": {},
   "outputs": [
    {
     "data": {
      "text/html": [
       "<div>\n",
       "<style scoped>\n",
       "    .dataframe tbody tr th:only-of-type {\n",
       "        vertical-align: middle;\n",
       "    }\n",
       "\n",
       "    .dataframe tbody tr th {\n",
       "        vertical-align: top;\n",
       "    }\n",
       "\n",
       "    .dataframe thead th {\n",
       "        text-align: right;\n",
       "    }\n",
       "</style>\n",
       "<table border=\"1\" class=\"dataframe\">\n",
       "  <thead>\n",
       "    <tr style=\"text-align: right;\">\n",
       "      <th></th>\n",
       "      <th>club_name</th>\n",
       "      <th>city_location</th>\n",
       "      <th>test_train</th>\n",
       "      <th>personal_train</th>\n",
       "      <th>pass_duration</th>\n",
       "      <th>pass_cost</th>\n",
       "      <th>start_pack</th>\n",
       "      <th>levels</th>\n",
       "      <th>medical_support</th>\n",
       "      <th>corporate_team</th>\n",
       "      <th>website</th>\n",
       "    </tr>\n",
       "  </thead>\n",
       "  <tbody>\n",
       "    <tr>\n",
       "      <th>0</th>\n",
       "      <td>Академия Марафона</td>\n",
       "      <td>Москва</td>\n",
       "      <td>1</td>\n",
       "      <td>0</td>\n",
       "      <td>8</td>\n",
       "      <td>12000</td>\n",
       "      <td>1</td>\n",
       "      <td>0</td>\n",
       "      <td>0</td>\n",
       "      <td>1</td>\n",
       "      <td>https://academymarathon.ru</td>\n",
       "    </tr>\n",
       "    <tr>\n",
       "      <th>1</th>\n",
       "      <td>Run Faq</td>\n",
       "      <td>Москва</td>\n",
       "      <td>0</td>\n",
       "      <td>1</td>\n",
       "      <td>8</td>\n",
       "      <td>9990</td>\n",
       "      <td>0</td>\n",
       "      <td>0</td>\n",
       "      <td>0</td>\n",
       "      <td>0</td>\n",
       "      <td>https://runfaq.ru</td>\n",
       "    </tr>\n",
       "    <tr>\n",
       "      <th>2</th>\n",
       "      <td>Run-Studio</td>\n",
       "      <td>Москва</td>\n",
       "      <td>0</td>\n",
       "      <td>1</td>\n",
       "      <td>8</td>\n",
       "      <td>8000</td>\n",
       "      <td>0</td>\n",
       "      <td>1</td>\n",
       "      <td>0</td>\n",
       "      <td>1</td>\n",
       "      <td>https://run-studio.com</td>\n",
       "    </tr>\n",
       "    <tr>\n",
       "      <th>3</th>\n",
       "      <td>RUNLABCLUB</td>\n",
       "      <td>Москва</td>\n",
       "      <td>1</td>\n",
       "      <td>0</td>\n",
       "      <td>8</td>\n",
       "      <td>9990</td>\n",
       "      <td>1</td>\n",
       "      <td>0</td>\n",
       "      <td>0</td>\n",
       "      <td>1</td>\n",
       "      <td>http://runlabclub.ru</td>\n",
       "    </tr>\n",
       "    <tr>\n",
       "      <th>4</th>\n",
       "      <td>Adidas Runners</td>\n",
       "      <td>Москва</td>\n",
       "      <td>1</td>\n",
       "      <td>1</td>\n",
       "      <td>8</td>\n",
       "      <td>7999</td>\n",
       "      <td>0</td>\n",
       "      <td>0</td>\n",
       "      <td>0</td>\n",
       "      <td>0</td>\n",
       "      <td>https://services.adidas.ru</td>\n",
       "    </tr>\n",
       "    <tr>\n",
       "      <th>5</th>\n",
       "      <td>PRO бег</td>\n",
       "      <td>Санкт-Петербург</td>\n",
       "      <td>0</td>\n",
       "      <td>1</td>\n",
       "      <td>8</td>\n",
       "      <td>6000</td>\n",
       "      <td>0</td>\n",
       "      <td>0</td>\n",
       "      <td>0</td>\n",
       "      <td>0</td>\n",
       "      <td>https://probeg-project.ru</td>\n",
       "    </tr>\n",
       "    <tr>\n",
       "      <th>6</th>\n",
       "      <td>Run Or Die</td>\n",
       "      <td>Москва</td>\n",
       "      <td>0</td>\n",
       "      <td>1</td>\n",
       "      <td>8</td>\n",
       "      <td>10000</td>\n",
       "      <td>0</td>\n",
       "      <td>0</td>\n",
       "      <td>0</td>\n",
       "      <td>1</td>\n",
       "      <td>https://runordie.ru</td>\n",
       "    </tr>\n",
       "    <tr>\n",
       "      <th>7</th>\n",
       "      <td>Gepard</td>\n",
       "      <td>Москва</td>\n",
       "      <td>0</td>\n",
       "      <td>1</td>\n",
       "      <td>8</td>\n",
       "      <td>8000</td>\n",
       "      <td>0</td>\n",
       "      <td>0</td>\n",
       "      <td>0</td>\n",
       "      <td>1</td>\n",
       "      <td>http://marathonclubgepard.ru</td>\n",
       "    </tr>\n",
       "    <tr>\n",
       "      <th>8</th>\n",
       "      <td>Jaxtor</td>\n",
       "      <td>Москва</td>\n",
       "      <td>1</td>\n",
       "      <td>0</td>\n",
       "      <td>8</td>\n",
       "      <td>7000</td>\n",
       "      <td>0</td>\n",
       "      <td>0</td>\n",
       "      <td>0</td>\n",
       "      <td>1</td>\n",
       "      <td>https://jaxtor.ru</td>\n",
       "    </tr>\n",
       "    <tr>\n",
       "      <th>9</th>\n",
       "      <td>Типичный марафонец</td>\n",
       "      <td>Санкт-Петербург</td>\n",
       "      <td>1</td>\n",
       "      <td>1</td>\n",
       "      <td>8</td>\n",
       "      <td>7500</td>\n",
       "      <td>0</td>\n",
       "      <td>0</td>\n",
       "      <td>0</td>\n",
       "      <td>0</td>\n",
       "      <td>http://tprun.ru</td>\n",
       "    </tr>\n",
       "    <tr>\n",
       "      <th>10</th>\n",
       "      <td>ProRunning</td>\n",
       "      <td>Санкт-Петербург</td>\n",
       "      <td>1</td>\n",
       "      <td>1</td>\n",
       "      <td>8</td>\n",
       "      <td>8500</td>\n",
       "      <td>0</td>\n",
       "      <td>1</td>\n",
       "      <td>1</td>\n",
       "      <td>0</td>\n",
       "      <td>http://prorunning.ru</td>\n",
       "    </tr>\n",
       "    <tr>\n",
       "      <th>11</th>\n",
       "      <td>Второе Дыхание</td>\n",
       "      <td>Санкт-Петербург</td>\n",
       "      <td>0</td>\n",
       "      <td>1</td>\n",
       "      <td>8</td>\n",
       "      <td>5000</td>\n",
       "      <td>0</td>\n",
       "      <td>1</td>\n",
       "      <td>1</td>\n",
       "      <td>1</td>\n",
       "      <td>https://vk.com/vdrunclub</td>\n",
       "    </tr>\n",
       "    <tr>\n",
       "      <th>12</th>\n",
       "      <td>Stride</td>\n",
       "      <td>Москва</td>\n",
       "      <td>0</td>\n",
       "      <td>0</td>\n",
       "      <td>8</td>\n",
       "      <td>9990</td>\n",
       "      <td>0</td>\n",
       "      <td>1</td>\n",
       "      <td>0</td>\n",
       "      <td>0</td>\n",
       "      <td>https://striderunning.ru/striderunningclub2142</td>\n",
       "    </tr>\n",
       "    <tr>\n",
       "      <th>13</th>\n",
       "      <td>Running Expert</td>\n",
       "      <td>Москва</td>\n",
       "      <td>1</td>\n",
       "      <td>1</td>\n",
       "      <td>8</td>\n",
       "      <td>9200</td>\n",
       "      <td>0</td>\n",
       "      <td>0</td>\n",
       "      <td>0</td>\n",
       "      <td>0</td>\n",
       "      <td>https://runningexpert.ru</td>\n",
       "    </tr>\n",
       "    <tr>\n",
       "      <th>14</th>\n",
       "      <td>Pirahna Running Club</td>\n",
       "      <td>Москва</td>\n",
       "      <td>0</td>\n",
       "      <td>0</td>\n",
       "      <td>8</td>\n",
       "      <td>5000</td>\n",
       "      <td>0</td>\n",
       "      <td>0</td>\n",
       "      <td>0</td>\n",
       "      <td>0</td>\n",
       "      <td>https://piranharunning.com</td>\n",
       "    </tr>\n",
       "  </tbody>\n",
       "</table>\n",
       "</div>"
      ],
      "text/plain": [
       "               club_name    city_location  test_train  personal_train  \\\n",
       "0      Академия Марафона           Москва           1               0   \n",
       "1                Run Faq           Москва           0               1   \n",
       "2             Run-Studio           Москва           0               1   \n",
       "3             RUNLABCLUB           Москва           1               0   \n",
       "4         Adidas Runners           Москва           1               1   \n",
       "5                PRO бег  Санкт-Петербург           0               1   \n",
       "6             Run Or Die           Москва           0               1   \n",
       "7                 Gepard           Москва           0               1   \n",
       "8                 Jaxtor           Москва           1               0   \n",
       "9     Типичный марафонец  Санкт-Петербург           1               1   \n",
       "10            ProRunning  Санкт-Петербург           1               1   \n",
       "11        Второе Дыхание  Санкт-Петербург           0               1   \n",
       "12                Stride           Москва           0               0   \n",
       "13        Running Expert           Москва           1               1   \n",
       "14  Pirahna Running Club           Москва           0               0   \n",
       "\n",
       "    pass_duration  pass_cost  start_pack  levels  medical_support  \\\n",
       "0               8      12000           1       0                0   \n",
       "1               8       9990           0       0                0   \n",
       "2               8       8000           0       1                0   \n",
       "3               8       9990           1       0                0   \n",
       "4               8       7999           0       0                0   \n",
       "5               8       6000           0       0                0   \n",
       "6               8      10000           0       0                0   \n",
       "7               8       8000           0       0                0   \n",
       "8               8       7000           0       0                0   \n",
       "9               8       7500           0       0                0   \n",
       "10              8       8500           0       1                1   \n",
       "11              8       5000           0       1                1   \n",
       "12              8       9990           0       1                0   \n",
       "13              8       9200           0       0                0   \n",
       "14              8       5000           0       0                0   \n",
       "\n",
       "    corporate_team                                         website  \n",
       "0                1                      https://academymarathon.ru  \n",
       "1                0                               https://runfaq.ru  \n",
       "2                1                          https://run-studio.com  \n",
       "3                1                            http://runlabclub.ru  \n",
       "4                0                      https://services.adidas.ru  \n",
       "5                0                       https://probeg-project.ru  \n",
       "6                1                             https://runordie.ru  \n",
       "7                1                    http://marathonclubgepard.ru  \n",
       "8                1                               https://jaxtor.ru  \n",
       "9                0                                 http://tprun.ru  \n",
       "10               0                            http://prorunning.ru  \n",
       "11               1                        https://vk.com/vdrunclub  \n",
       "12               0  https://striderunning.ru/striderunningclub2142  \n",
       "13               0                        https://runningexpert.ru  \n",
       "14               0                      https://piranharunning.com  "
      ]
     },
     "execution_count": 123,
     "metadata": {},
     "output_type": "execute_result"
    }
   ],
   "source": [
    "data"
   ]
  },
  {
   "cell_type": "markdown",
   "id": "c787b20f",
   "metadata": {},
   "source": [
    "* Running Expert не практикует групповые тренировки после пандемии: данные заполнены средними значениями"
   ]
  },
  {
   "cell_type": "code",
   "execution_count": 125,
   "id": "35c9c7c9",
   "metadata": {},
   "outputs": [
    {
     "name": "stdout",
     "output_type": "stream",
     "text": [
      "Средняя цена за 8 занятий в Москве: 9200.0\n"
     ]
    }
   ],
   "source": [
    "data_moscow = data.loc[(data['city_location'] == 'Москва')]\n",
    "print('Средняя цена за 8 занятий в Москве:', data_moscow['pass_cost'].median())"
   ]
  },
  {
   "cell_type": "code",
   "execution_count": 127,
   "id": "8ac4c518",
   "metadata": {},
   "outputs": [
    {
     "name": "stdout",
     "output_type": "stream",
     "text": [
      "Средняя цена за 8 занятий в Санкт-Петербурге: 6750.0\n"
     ]
    }
   ],
   "source": [
    "data_sp = data.loc[(data['city_location'] == 'Санкт-Петербург')]\n",
    "print('Средняя цена за 8 занятий в Санкт-Петербурге:', data_sp['pass_cost'].median())"
   ]
  },
  {
   "cell_type": "code",
   "execution_count": 128,
   "id": "dec0432f",
   "metadata": {},
   "outputs": [
    {
     "name": "stdout",
     "output_type": "stream",
     "text": [
      "**НАЛИЧИЕ УСЛУГ ДЛЯ КОРПОРАТИВНЫХ КОМАНД**\n"
     ]
    },
    {
     "data": {
      "text/plain": [
       "<AxesSubplot:xlabel='city_location', ylabel='count'>"
      ]
     },
     "execution_count": 128,
     "metadata": {},
     "output_type": "execute_result"
    },
    {
     "data": {
      "image/png": "[encoded data removed]",
      "text/plain": [
       "<Figure size 432x288 with 1 Axes>"
      ]
     },
     "metadata": {
      "needs_background": "light"
     },
     "output_type": "display_data"
    }
   ],
   "source": [
    "print('**НАЛИЧИЕ УСЛУГ ДЛЯ КОРПОРАТИВНЫХ КОМАНД**')\n",
    "sns.countplot(x='city_location', hue='corporate_team', data=data)"
   ]
  },
  {
   "cell_type": "code",
   "execution_count": 129,
   "id": "12cce382",
   "metadata": {},
   "outputs": [
    {
     "name": "stdout",
     "output_type": "stream",
     "text": [
      "**НАЛИЧИЕ УСЛУГ ПЕРСОНАЛЬНЫХ ТРЕНИРОВОК**\n"
     ]
    },
    {
     "data": {
      "text/plain": [
       "<AxesSubplot:xlabel='city_location', ylabel='count'>"
      ]
     },
     "execution_count": 129,
     "metadata": {},
     "output_type": "execute_result"
    },
    {
     "data": {
      "image/png": "[encoded data removed]",
      "text/plain": [
       "<Figure size 432x288 with 1 Axes>"
      ]
     },
     "metadata": {
      "needs_background": "light"
     },
     "output_type": "display_data"
    }
   ],
   "source": [
    "print('**НАЛИЧИЕ УСЛУГ ПЕРСОНАЛЬНЫХ ТРЕНИРОВОК**')\n",
    "sns.countplot(x='city_location', hue='personal_train', data=data)"
   ]
  },
  {
   "cell_type": "code",
   "execution_count": 130,
   "id": "5818afeb",
   "metadata": {},
   "outputs": [
    {
     "name": "stdout",
     "output_type": "stream",
     "text": [
      "**НАЛИЧИЕ ПРОБНОЙ ТРЕНИРОВКИ**\n"
     ]
    },
    {
     "data": {
      "text/plain": [
       "<AxesSubplot:xlabel='city_location', ylabel='count'>"
      ]
     },
     "execution_count": 130,
     "metadata": {},
     "output_type": "execute_result"
    },
    {
     "data": {
      "image/png": "[encoded data removed]",
      "text/plain": [
       "<Figure size 432x288 with 1 Axes>"
      ]
     },
     "metadata": {
      "needs_background": "light"
     },
     "output_type": "display_data"
    }
   ],
   "source": [
    "print('**НАЛИЧИЕ ПРОБНОЙ ТРЕНИРОВКИ**')\n",
    "sns.countplot(x='city_location', hue='test_train', data=data)"
   ]
  },
  {
   "cell_type": "code",
   "execution_count": 131,
   "id": "6b17ed22",
   "metadata": {},
   "outputs": [
    {
     "name": "stdout",
     "output_type": "stream",
     "text": [
      "**НАЛИЧИЕ РАЗДЕЛЕНИЯ НА УРОВНИ**\n"
     ]
    },
    {
     "data": {
      "text/plain": [
       "<AxesSubplot:xlabel='city_location', ylabel='count'>"
      ]
     },
     "execution_count": 131,
     "metadata": {},
     "output_type": "execute_result"
    },
    {
     "data": {
      "image/png": "[encoded data removed]",
      "text/plain": [
       "<Figure size 432x288 with 1 Axes>"
      ]
     },
     "metadata": {
      "needs_background": "light"
     },
     "output_type": "display_data"
    }
   ],
   "source": [
    "print('**НАЛИЧИЕ РАЗДЕЛЕНИЯ НА УРОВНИ**')\n",
    "sns.countplot(x='city_location', hue='levels', data=data)"
   ]
  },
  {
   "cell_type": "code",
   "execution_count": 132,
   "id": "0fe031c8",
   "metadata": {},
   "outputs": [
    {
     "name": "stdout",
     "output_type": "stream",
     "text": [
      "**НАЛИЧИЕ СТАРТОВОГО ПАКЕТА**\n"
     ]
    },
    {
     "data": {
      "text/plain": [
       "<AxesSubplot:xlabel='city_location', ylabel='count'>"
      ]
     },
     "execution_count": 132,
     "metadata": {},
     "output_type": "execute_result"
    },
    {
     "data": {
      "image/png": "[encoded data removed]",
      "text/plain": [
       "<Figure size 432x288 with 1 Axes>"
      ]
     },
     "metadata": {
      "needs_background": "light"
     },
     "output_type": "display_data"
    }
   ],
   "source": [
    "print('**НАЛИЧИЕ СТАРТОВОГО ПАКЕТА**')\n",
    "sns.countplot(x='city_location', hue='start_pack', data=data)"
   ]
  },
  {
   "cell_type": "code",
   "execution_count": 133,
   "id": "9088db78",
   "metadata": {},
   "outputs": [
    {
     "name": "stdout",
     "output_type": "stream",
     "text": [
      "**МЕДИЦИНСКИЕ КОНСУЛЬТАЦИИ**\n"
     ]
    },
    {
     "data": {
      "text/plain": [
       "<AxesSubplot:xlabel='city_location', ylabel='count'>"
      ]
     },
     "execution_count": 133,
     "metadata": {},
     "output_type": "execute_result"
    },
    {
     "data": {
      "image/png": "[encoded data removed]",
      "text/plain": [
       "<Figure size 432x288 with 1 Axes>"
      ]
     },
     "metadata": {
      "needs_background": "light"
     },
     "output_type": "display_data"
    }
   ],
   "source": [
    "print('**МЕДИЦИНСКИЕ КОНСУЛЬТАЦИИ**')\n",
    "sns.countplot(x='city_location', hue='medical_support', data=data)"
   ]
  },
  {
   "cell_type": "markdown",
   "id": "5d49cf4e",
   "metadata": {},
   "source": [
    "### Особенности клубов"
   ]
  },
  {
   "cell_type": "markdown",
   "id": "c7e59144",
   "metadata": {},
   "source": [
    "####  1. Академия Марафона:\n",
    "- Клубная футболка \n",
    "- Система лояльности с 3 месяца\n",
    "- Пробная тренировка (платная: 1500р)\n",
    "- Видеокурс по технике бега\n",
    "- Подкаст, видеоблог, журнал\n",
    "- Лагерь выходного дня (бег, сапсёрфинг, медитации, баня)\n",
    "\n",
    "#### 2. Run Faq\n",
    "- Блог, подкаст\n",
    "- Разборы брендов/экипировки\n",
    "\n",
    "#### 3. Run-Studio\n",
    "- Есть тренировки в Самаре\n",
    "\n",
    "#### 4. RUNLABCLUB\n",
    "- Курс \"Техника бега\"\n",
    "- Подарочный сертификат\n",
    "- Бесплатный тест на подбор обуви Gait-анализ\n",
    "- Welcome-pack\n",
    "- Партнёрские программы\n",
    "- Детский спортивно-оздоровительный лагерь\n",
    "\n",
    "#### 5. Adidas Runners\n",
    "- Множество вариантов разных пакетов тренировок (как групповых, так и индивидуальных)\n",
    "\n",
    "#### 6. PRO бег\n",
    "- Сборы Кисловодск/Сочи\n",
    "\n",
    "#### 7. Run Or Die\n",
    "- Наличие детских тренировок\n",
    "\n",
    "#### 8. Gepard\n",
    "--\n",
    "\n",
    "#### 9. Jaxtor\n",
    "- Участие в тренировочных сборах клуба (Турция, Кипр)\n",
    "- Консультации по подбору экипировки\n",
    "- Zoom-тренировки на пресс, спину и растяжка\n",
    "\n",
    "#### 10. Типичный марафонец\n",
    "- Cкидка на абонемент в случае цели подготовки к одному из регулярных соревнований\n",
    "\n",
    "#### 11. ProRunning\n",
    "- Консультация спортивного врача\n",
    "- Рекомендации по режиму дня и питанию\n",
    "\n",
    "#### 12. Второе Дыхание\n",
    "- Программа \"Спортивное совершенствование\" 1 год бесплатно\n",
    "\n",
    "#### 13. Stride\n",
    "\n",
    "- Программа лояльности и скидка 15% на продукцию магазина Stride\n",
    "\n",
    "#### 14. Running Expert\n",
    "\n",
    "- Индивидуальные тренировки с выездом в удобную локацию\n",
    "- Журнал (на сайте)"
   ]
  },
  {
   "cell_type": "markdown",
   "id": "e7b3e804",
   "metadata": {},
   "source": [
    "## Вывод"
   ]
  },
  {
   "cell_type": "markdown",
   "id": "2834cd02",
   "metadata": {},
   "source": [
    "1. Большинство клубов в Москве имеет опцию услуг для корпоративных команд, Петербург меньше на это ориентирован\n",
    "2. Большинство клубов Москвы и все рассмотренные клубы Петербурга имеют опцию очных персональных тренировок\n",
    "3. Все рассмотренные клубы имеют опцию пробной тренировки\n",
    "4. Очень редко встречается разделение по уровню подготовки\n",
    "5. Очень редко встречается наличие стартового (welcome) пакета\n",
    "6. В Москве не встречается наличие медицинских консультаций и сопровождения, в Петербурге - единичный случай\n",
    "7. Средняя цена за 8 занятий в Москве составляет 9200 рублей, а в Петербурге - 6750\n",
    "\n",
    "**Ключевая особенность, на которую можно обратить внимание:**\n",
    "\n",
    "Лагерь выходного дня"
   ]
  },
  {
   "cell_type": "markdown",
   "id": "0161038d",
   "metadata": {},
   "source": [
    "**Преимущества I Love Runnning**\n"
   ]
  },
  {
   "cell_type": "markdown",
   "id": "21ba2309",
   "metadata": {},
   "source": [
    "1. Наличие разделения по уровням\n",
    "2. Наличие стартового пакета\n",
    "3. Диагностика опорно-двигательного аппарата\n",
    "4. Поддержка штаба в организационных вопросах\n",
    "5. Медицинские услуги от партнёров I Love Supersport"
   ]
  }
 ],
 "metadata": {
  "kernelspec": {
   "display_name": "Python 3",
   "language": "python",
   "name": "python3"
  },
  "language_info": {
   "codemirror_mode": {
    "name": "ipython",
    "version": 3
   },
   "file_extension": ".py",
   "mimetype": "text/x-python",
   "name": "python",
   "nbconvert_exporter": "python",
   "pygments_lexer": "ipython3",
   "version": "3.8.8"
  }
 },
 "nbformat": 4,
 "nbformat_minor": 5
}
